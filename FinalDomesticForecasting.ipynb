{
  "nbformat": 4,
  "nbformat_minor": 0,
  "metadata": {
    "colab": {
      "name": "FinalDomesticForecasting.ipynb",
      "provenance": [],
      "collapsed_sections": []
    },
    "kernelspec": {
      "name": "python3",
      "display_name": "Python 3"
    }
  },
  "cells": [
    {
      "cell_type": "code",
      "metadata": {
        "id": "MBGmucqumyin",
        "colab_type": "code",
        "colab": {
          "base_uri": "https://localhost:8080/",
          "height": 335
        },
        "outputId": "5b9ddc45-8f6a-461a-b4b0-581d9d052d3b"
      },
      "source": [
        "import pandas as pd\n",
        "import numpy as np\n",
        "import matplotlib.pyplot as plt\n",
        "import seaborn as sns\n",
        "import matplotlib.dates as mdates\n",
        "from matplotlib.ticker import AutoMinorLocator, MultipleLocator, FuncFormatter\n",
        "\n",
        "from statsmodels.tsa.stattools import adfuller\n",
        "from pyramid.arima import auto_arima\n",
        "from statsmodels.graphics.tsaplots import plot_acf, plot_pacf\n",
        "from statsmodels.tsa.arima_model import ARIMA\n",
        "\n",
        "from statsmodels.tsa.statespace.sarimax import SARIMAX\n",
        "\n",
        "from sklearn.metrics import mean_squared_error,mean_absolute_error\n",
        "\n",
        "import warnings\n",
        "warnings.filterwarnings('ignore')"
      ],
      "execution_count": null,
      "outputs": [
        {
          "output_type": "stream",
          "text": [
            "/usr/local/lib/python3.6/dist-packages/statsmodels/tools/_testing.py:19: FutureWarning: pandas.util.testing is deprecated. Use the functions in the public API at pandas.testing instead.\n",
            "  import pandas.util.testing as tm\n",
            "/usr/local/lib/python3.6/dist-packages/sklearn/externals/six.py:31: FutureWarning: The module is deprecated in version 0.21 and will be removed in version 0.23 since we've dropped support for Python 2.7. Please rely on the official version of six (https://pypi.org/project/six/).\n",
            "  \"(https://pypi.org/project/six/).\", FutureWarning)\n",
            "/usr/local/lib/python3.6/dist-packages/sklearn/externals/joblib/__init__.py:15: FutureWarning: sklearn.externals.joblib is deprecated in 0.21 and will be removed in 0.23. Please import this functionality directly from joblib, which can be installed with: pip install joblib. If this warning is raised when loading pickled models, you may need to re-serialize those models with scikit-learn 0.21+.\n",
            "  warnings.warn(msg, category=FutureWarning)\n",
            "/usr/local/lib/python3.6/dist-packages/pyramid/__init__.py:68: UserWarning: \n",
            "    The 'pyramid' package will be migrating to a new namespace beginning in \n",
            "    version 1.0.0: 'pmdarima'. This is due to a package name collision with the\n",
            "    Pyramid web framework. For more information, see Issue #34:\n",
            "    \n",
            "        https://github.com/tgsmith61591/pyramid/issues/34\n",
            "        \n",
            "    The package will subsequently be installable via the name 'pmdarima'; the\n",
            "    only functional change to the user will be the import name. All imports\n",
            "    from 'pyramid' will change to 'pmdarima'.\n",
            "    \n",
            "  \"\"\", UserWarning)\n"
          ],
          "name": "stderr"
        }
      ]
    },
    {
      "cell_type": "code",
      "metadata": {
        "id": "3BVAFlPAs3XL",
        "colab_type": "code",
        "colab": {}
      },
      "source": [
        "#pip install pyramid-arima"
      ],
      "execution_count": null,
      "outputs": []
    },
    {
      "cell_type": "code",
      "metadata": {
        "id": "i38gtzbom9ES",
        "colab_type": "code",
        "colab": {}
      },
      "source": [
        "data = pd.read_csv('/content/drive/My Drive/ColabDataset/FinalDomesticDataset.csv')\n"
      ],
      "execution_count": null,
      "outputs": []
    },
    {
      "cell_type": "code",
      "metadata": {
        "id": "GDZPo3UBjMDg",
        "colab_type": "code",
        "colab": {}
      },
      "source": [
        "prophetData = data[['InvoiceDate','AvgNetFare']]"
      ],
      "execution_count": null,
      "outputs": []
    },
    {
      "cell_type": "code",
      "metadata": {
        "id": "xxWcOEXtql5E",
        "colab_type": "code",
        "colab": {
          "base_uri": "https://localhost:8080/",
          "height": 54
        },
        "outputId": "9140a950-944e-420a-9d1a-35eaff075f06"
      },
      "source": [
        "from google.colab import drive\n",
        "drive.mount('/content/drive')"
      ],
      "execution_count": null,
      "outputs": [
        {
          "output_type": "stream",
          "text": [
            "Drive already mounted at /content/drive; to attempt to forcibly remount, call drive.mount(\"/content/drive\", force_remount=True).\n"
          ],
          "name": "stdout"
        }
      ]
    },
    {
      "cell_type": "code",
      "metadata": {
        "id": "sujoSqO1nndM",
        "colab_type": "code",
        "colab": {}
      },
      "source": [
        "sns.set_style('whitegrid')\n",
        "size=(19,9)"
      ],
      "execution_count": null,
      "outputs": []
    },
    {
      "cell_type": "code",
      "metadata": {
        "id": "NHT8LSO2nHxN",
        "colab_type": "code",
        "colab": {
          "base_uri": "https://localhost:8080/",
          "height": 433
        },
        "outputId": "522cbd20-7c0d-449a-f874-06286ce86c96"
      },
      "source": [
        "data"
      ],
      "execution_count": null,
      "outputs": [
        {
          "output_type": "execute_result",
          "data": {
            "text/html": [
              "<div>\n",
              "<style scoped>\n",
              "    .dataframe tbody tr th:only-of-type {\n",
              "        vertical-align: middle;\n",
              "    }\n",
              "\n",
              "    .dataframe tbody tr th {\n",
              "        vertical-align: top;\n",
              "    }\n",
              "\n",
              "    .dataframe thead th {\n",
              "        text-align: right;\n",
              "    }\n",
              "</style>\n",
              "<table border=\"1\" class=\"dataframe\">\n",
              "  <thead>\n",
              "    <tr style=\"text-align: right;\">\n",
              "      <th></th>\n",
              "      <th>InvoiceDate</th>\n",
              "      <th>AvgNetFare</th>\n",
              "      <th>TotalNetFare</th>\n",
              "    </tr>\n",
              "  </thead>\n",
              "  <tbody>\n",
              "    <tr>\n",
              "      <th>0</th>\n",
              "      <td>2018-04-01</td>\n",
              "      <td>4276.300000</td>\n",
              "      <td>85526.0</td>\n",
              "    </tr>\n",
              "    <tr>\n",
              "      <th>1</th>\n",
              "      <td>2018-04-02</td>\n",
              "      <td>4197.466667</td>\n",
              "      <td>251848.0</td>\n",
              "    </tr>\n",
              "    <tr>\n",
              "      <th>2</th>\n",
              "      <td>2018-04-03</td>\n",
              "      <td>4163.578125</td>\n",
              "      <td>266469.0</td>\n",
              "    </tr>\n",
              "    <tr>\n",
              "      <th>3</th>\n",
              "      <td>2018-04-04</td>\n",
              "      <td>4112.812500</td>\n",
              "      <td>329025.0</td>\n",
              "    </tr>\n",
              "    <tr>\n",
              "      <th>4</th>\n",
              "      <td>2018-04-05</td>\n",
              "      <td>3977.666667</td>\n",
              "      <td>369923.0</td>\n",
              "    </tr>\n",
              "    <tr>\n",
              "      <th>...</th>\n",
              "      <td>...</td>\n",
              "      <td>...</td>\n",
              "      <td>...</td>\n",
              "    </tr>\n",
              "    <tr>\n",
              "      <th>431</th>\n",
              "      <td>2019-06-06</td>\n",
              "      <td>3659.568144</td>\n",
              "      <td>2228677.0</td>\n",
              "    </tr>\n",
              "    <tr>\n",
              "      <th>432</th>\n",
              "      <td>2019-06-07</td>\n",
              "      <td>3563.161905</td>\n",
              "      <td>2244792.0</td>\n",
              "    </tr>\n",
              "    <tr>\n",
              "      <th>433</th>\n",
              "      <td>2019-06-08</td>\n",
              "      <td>3426.708642</td>\n",
              "      <td>1387817.0</td>\n",
              "    </tr>\n",
              "    <tr>\n",
              "      <th>434</th>\n",
              "      <td>2019-06-09</td>\n",
              "      <td>3414.024390</td>\n",
              "      <td>559900.0</td>\n",
              "    </tr>\n",
              "    <tr>\n",
              "      <th>435</th>\n",
              "      <td>2019-06-10</td>\n",
              "      <td>3491.726248</td>\n",
              "      <td>2168362.0</td>\n",
              "    </tr>\n",
              "  </tbody>\n",
              "</table>\n",
              "<p>436 rows × 3 columns</p>\n",
              "</div>"
            ],
            "text/plain": [
              "    InvoiceDate   AvgNetFare  TotalNetFare\n",
              "0    2018-04-01  4276.300000       85526.0\n",
              "1    2018-04-02  4197.466667      251848.0\n",
              "2    2018-04-03  4163.578125      266469.0\n",
              "3    2018-04-04  4112.812500      329025.0\n",
              "4    2018-04-05  3977.666667      369923.0\n",
              "..          ...          ...           ...\n",
              "431  2019-06-06  3659.568144     2228677.0\n",
              "432  2019-06-07  3563.161905     2244792.0\n",
              "433  2019-06-08  3426.708642     1387817.0\n",
              "434  2019-06-09  3414.024390      559900.0\n",
              "435  2019-06-10  3491.726248     2168362.0\n",
              "\n",
              "[436 rows x 3 columns]"
            ]
          },
          "metadata": {
            "tags": []
          },
          "execution_count": 7
        }
      ]
    },
    {
      "cell_type": "code",
      "metadata": {
        "id": "cYbAAJCnnUWG",
        "colab_type": "code",
        "colab": {
          "base_uri": "https://localhost:8080/",
          "height": 203
        },
        "outputId": "0b66f26d-98b4-4072-b182-7f490ca3f34d"
      },
      "source": [
        "data.info()"
      ],
      "execution_count": null,
      "outputs": [
        {
          "output_type": "stream",
          "text": [
            "<class 'pandas.core.frame.DataFrame'>\n",
            "RangeIndex: 436 entries, 0 to 435\n",
            "Data columns (total 3 columns):\n",
            " #   Column        Non-Null Count  Dtype  \n",
            "---  ------        --------------  -----  \n",
            " 0   InvoiceDate   436 non-null    object \n",
            " 1   AvgNetFare    436 non-null    float64\n",
            " 2   TotalNetFare  436 non-null    float64\n",
            "dtypes: float64(2), object(1)\n",
            "memory usage: 10.3+ KB\n"
          ],
          "name": "stdout"
        }
      ]
    },
    {
      "cell_type": "code",
      "metadata": {
        "id": "sLgItOYGnVLN",
        "colab_type": "code",
        "colab": {}
      },
      "source": [
        "data['InvoiceDate'] = pd.to_datetime(data['InvoiceDate'])"
      ],
      "execution_count": null,
      "outputs": []
    },
    {
      "cell_type": "code",
      "metadata": {
        "id": "BeNw0_Ufngro",
        "colab_type": "code",
        "colab": {
          "base_uri": "https://localhost:8080/",
          "height": 433
        },
        "outputId": "fad8f49c-443a-45cc-8c78-6db647c8b556"
      },
      "source": [
        "data"
      ],
      "execution_count": null,
      "outputs": [
        {
          "output_type": "execute_result",
          "data": {
            "text/html": [
              "<div>\n",
              "<style scoped>\n",
              "    .dataframe tbody tr th:only-of-type {\n",
              "        vertical-align: middle;\n",
              "    }\n",
              "\n",
              "    .dataframe tbody tr th {\n",
              "        vertical-align: top;\n",
              "    }\n",
              "\n",
              "    .dataframe thead th {\n",
              "        text-align: right;\n",
              "    }\n",
              "</style>\n",
              "<table border=\"1\" class=\"dataframe\">\n",
              "  <thead>\n",
              "    <tr style=\"text-align: right;\">\n",
              "      <th></th>\n",
              "      <th>InvoiceDate</th>\n",
              "      <th>AvgNetFare</th>\n",
              "      <th>TotalNetFare</th>\n",
              "    </tr>\n",
              "  </thead>\n",
              "  <tbody>\n",
              "    <tr>\n",
              "      <th>0</th>\n",
              "      <td>2018-04-01</td>\n",
              "      <td>4276.300000</td>\n",
              "      <td>85526.0</td>\n",
              "    </tr>\n",
              "    <tr>\n",
              "      <th>1</th>\n",
              "      <td>2018-04-02</td>\n",
              "      <td>4197.466667</td>\n",
              "      <td>251848.0</td>\n",
              "    </tr>\n",
              "    <tr>\n",
              "      <th>2</th>\n",
              "      <td>2018-04-03</td>\n",
              "      <td>4163.578125</td>\n",
              "      <td>266469.0</td>\n",
              "    </tr>\n",
              "    <tr>\n",
              "      <th>3</th>\n",
              "      <td>2018-04-04</td>\n",
              "      <td>4112.812500</td>\n",
              "      <td>329025.0</td>\n",
              "    </tr>\n",
              "    <tr>\n",
              "      <th>4</th>\n",
              "      <td>2018-04-05</td>\n",
              "      <td>3977.666667</td>\n",
              "      <td>369923.0</td>\n",
              "    </tr>\n",
              "    <tr>\n",
              "      <th>...</th>\n",
              "      <td>...</td>\n",
              "      <td>...</td>\n",
              "      <td>...</td>\n",
              "    </tr>\n",
              "    <tr>\n",
              "      <th>431</th>\n",
              "      <td>2019-06-06</td>\n",
              "      <td>3659.568144</td>\n",
              "      <td>2228677.0</td>\n",
              "    </tr>\n",
              "    <tr>\n",
              "      <th>432</th>\n",
              "      <td>2019-06-07</td>\n",
              "      <td>3563.161905</td>\n",
              "      <td>2244792.0</td>\n",
              "    </tr>\n",
              "    <tr>\n",
              "      <th>433</th>\n",
              "      <td>2019-06-08</td>\n",
              "      <td>3426.708642</td>\n",
              "      <td>1387817.0</td>\n",
              "    </tr>\n",
              "    <tr>\n",
              "      <th>434</th>\n",
              "      <td>2019-06-09</td>\n",
              "      <td>3414.024390</td>\n",
              "      <td>559900.0</td>\n",
              "    </tr>\n",
              "    <tr>\n",
              "      <th>435</th>\n",
              "      <td>2019-06-10</td>\n",
              "      <td>3491.726248</td>\n",
              "      <td>2168362.0</td>\n",
              "    </tr>\n",
              "  </tbody>\n",
              "</table>\n",
              "<p>436 rows × 3 columns</p>\n",
              "</div>"
            ],
            "text/plain": [
              "    InvoiceDate   AvgNetFare  TotalNetFare\n",
              "0    2018-04-01  4276.300000       85526.0\n",
              "1    2018-04-02  4197.466667      251848.0\n",
              "2    2018-04-03  4163.578125      266469.0\n",
              "3    2018-04-04  4112.812500      329025.0\n",
              "4    2018-04-05  3977.666667      369923.0\n",
              "..          ...          ...           ...\n",
              "431  2019-06-06  3659.568144     2228677.0\n",
              "432  2019-06-07  3563.161905     2244792.0\n",
              "433  2019-06-08  3426.708642     1387817.0\n",
              "434  2019-06-09  3414.024390      559900.0\n",
              "435  2019-06-10  3491.726248     2168362.0\n",
              "\n",
              "[436 rows x 3 columns]"
            ]
          },
          "metadata": {
            "tags": []
          },
          "execution_count": 10
        }
      ]
    },
    {
      "cell_type": "code",
      "metadata": {
        "id": "1ETMWPPznk-Y",
        "colab_type": "code",
        "colab": {
          "base_uri": "https://localhost:8080/",
          "height": 572
        },
        "outputId": "12b56af9-5ef9-4426-969c-750815790e4c"
      },
      "source": [
        "ax = data.plot(x='InvoiceDate',y='AvgNetFare',figsize=size)\n",
        "\n",
        "ax.get_xaxis().set_major_locator(mdates.MonthLocator(interval=1))\n",
        "ax.get_xaxis().set_major_formatter(mdates.DateFormatter('%b-%y'))\n",
        "# ax.yaxis.set_minor_locator(AutoMinorLocator(4))\n",
        "# ax.xaxis.set_minor_locator(AutoMinorLocator(10))"
      ],
      "execution_count": null,
      "outputs": [
        {
          "output_type": "display_data",
          "data": {
            "image/png": "[encoded data removed]",
            "text/plain": [
              "<Figure size 1368x648 with 1 Axes>"
            ]
          },
          "metadata": {
            "tags": []
          }
        }
      ]
    },
    {
      "cell_type": "markdown",
      "metadata": {
        "id": "54JuTbJLrwRf",
        "colab_type": "text"
      },
      "source": [
        "Lets Perform the dickey fuller Test"
      ]
    },
    {
      "cell_type": "code",
      "metadata": {
        "id": "03XhF3LWBRQ8",
        "colab_type": "code",
        "colab": {}
      },
      "source": [
        "data.set_index('InvoiceDate',inplace=True)"
      ],
      "execution_count": null,
      "outputs": []
    },
    {
      "cell_type": "code",
      "metadata": {
        "id": "v5PyPFpTrvww",
        "colab_type": "code",
        "colab": {
          "base_uri": "https://localhost:8080/",
          "height": 170
        },
        "outputId": "027e378f-85e0-4478-88cf-0b4c74bc7ad6"
      },
      "source": [
        "def DickeyFullerTest(val):\n",
        "  ad = adfuller(val['AvgNetFare'])\n",
        "\n",
        "  print('Crictical Value -   ',ad[0])\n",
        "  print('P Value -   ',ad[1])\n",
        "  print('No. of Lag Used -   ',ad[2])\n",
        "  print('No. of value used -   ',ad[3])\n",
        "\n",
        "  for key,val in ad[4].items():\n",
        "    print(key,val)\n",
        "\n",
        "  if(ad[1]>=0.05):\n",
        "    print('Data is not Stationary')\n",
        "  else:\n",
        "    print('Data is Stationary')\n",
        "\n",
        "DickeyFullerTest(data)"
      ],
      "execution_count": null,
      "outputs": [
        {
          "output_type": "stream",
          "text": [
            "Crictical Value -    -3.795153619863262\n",
            "P Value -    0.002957290835420431\n",
            "No. of Lag Used -    3\n",
            "No. of value used -    432\n",
            "1% -3.445578199334947\n",
            "5% -2.8682536932290876\n",
            "10% -2.570346162765775\n",
            "Data is Stationary\n"
          ],
          "name": "stdout"
        }
      ]
    },
    {
      "cell_type": "code",
      "metadata": {
        "id": "GN5ta-fh4l_y",
        "colab_type": "code",
        "colab": {
          "base_uri": "https://localhost:8080/",
          "height": 565
        },
        "outputId": "ef8df04f-1406-4d85-9b22-15e9b2ae8f29"
      },
      "source": [
        "plot_acf(data['AvgNetFare'],lags=30)\n",
        "\n",
        "plot_pacf(data['AvgNetFare'],lags=30)\n",
        "\n",
        "plt.show()"
      ],
      "execution_count": null,
      "outputs": [
        {
          "output_type": "display_data",
          "data": {
            "image/png": "[encoded data removed]",
            "text/plain": [
              "<Figure size 432x288 with 1 Axes>"
            ]
          },
          "metadata": {
            "tags": []
          }
        },
        {
          "output_type": "display_data",
          "data": {
            "image/png": "[encoded data removed]",
            "text/plain": [
              "<Figure size 432x288 with 1 Axes>"
            ]
          },
          "metadata": {
            "tags": []
          }
        }
      ]
    },
    {
      "cell_type": "code",
      "metadata": {
        "id": "sBP8CJVZ8eAn",
        "colab_type": "code",
        "colab": {
          "base_uri": "https://localhost:8080/",
          "height": 54
        },
        "outputId": "b443d785-c208-4957-8c6e-d29bfb8520b9"
      },
      "source": [
        "len(data)-30\n",
        "\n"
      ],
      "execution_count": null,
      "outputs": [
        {
          "output_type": "execute_result",
          "data": {
            "text/plain": [
              "406"
            ]
          },
          "metadata": {
            "tags": []
          },
          "execution_count": 15
        }
      ]
    },
    {
      "cell_type": "code",
      "metadata": {
        "id": "VXOu6joY8b3z",
        "colab_type": "code",
        "colab": {}
      },
      "source": [
        "xTrain,xTest = data['AvgNetFare'][:406],data['AvgNetFare'][406:]"
      ],
      "execution_count": null,
      "outputs": []
    },
    {
      "cell_type": "code",
      "metadata": {
        "id": "-5K-DhtHCnGj",
        "colab_type": "code",
        "colab": {
          "base_uri": "https://localhost:8080/",
          "height": 566
        },
        "outputId": "547db248-e732-4945-f905-c9a639bf8f5f"
      },
      "source": [
        "#len(xTest)\n",
        "xTest"
      ],
      "execution_count": null,
      "outputs": [
        {
          "output_type": "execute_result",
          "data": {
            "text/plain": [
              "InvoiceDate\n",
              "2019-05-12    3812.881857\n",
              "2019-05-13    3982.771596\n",
              "2019-05-14    3961.348881\n",
              "2019-05-15    3803.648649\n",
              "2019-05-16    3730.014587\n",
              "2019-05-17    4020.058431\n",
              "2019-05-18    4068.519231\n",
              "2019-05-19    3837.275000\n",
              "2019-05-20    3835.232520\n",
              "2019-05-21    4096.385057\n",
              "2019-05-22    3755.146568\n",
              "2019-05-23    3808.010870\n",
              "2019-05-24    3841.098232\n",
              "2019-05-25    3710.733333\n",
              "2019-05-26    3439.644928\n",
              "2019-05-27    3712.959920\n",
              "2019-05-28    3826.413849\n",
              "2019-05-29    3685.572854\n",
              "2019-05-30    3489.494118\n",
              "2019-05-31    3487.030364\n",
              "2019-06-01    3460.316633\n",
              "2019-06-02    3768.116279\n",
              "2019-06-03    3633.877221\n",
              "2019-06-04    3662.317568\n",
              "2019-06-05    3437.514815\n",
              "2019-06-06    3659.568144\n",
              "2019-06-07    3563.161905\n",
              "2019-06-08    3426.708642\n",
              "2019-06-09    3414.024390\n",
              "2019-06-10    3491.726248\n",
              "Name: AvgNetFare, dtype: float64"
            ]
          },
          "metadata": {
            "tags": []
          },
          "execution_count": 17
        }
      ]
    },
    {
      "cell_type": "code",
      "metadata": {
        "id": "0CxedrQr9stV",
        "colab_type": "code",
        "colab": {
          "base_uri": "https://localhost:8080/",
          "height": 733
        },
        "outputId": "17773ba6-5664-4b98-ea90-18ea3f172396"
      },
      "source": [
        "arima = ARIMA(xTrain,order=(10,2,1))\n",
        "arima = arima.fit()\n",
        "arima.summary()"
      ],
      "execution_count": null,
      "outputs": [
        {
          "output_type": "execute_result",
          "data": {
            "text/html": [
              "<table class=\"simpletable\">\n",
              "<caption>ARIMA Model Results</caption>\n",
              "<tr>\n",
              "  <th>Dep. Variable:</th>   <td>D2.AvgNetFare</td>  <th>  No. Observations:  </th>    <td>404</td>   \n",
              "</tr>\n",
              "<tr>\n",
              "  <th>Model:</th>          <td>ARIMA(10, 2, 1)</td> <th>  Log Likelihood     </th> <td>-2852.621</td>\n",
              "</tr>\n",
              "<tr>\n",
              "  <th>Method:</th>             <td>css-mle</td>     <th>  S.D. of innovations</th>  <td>278.967</td> \n",
              "</tr>\n",
              "<tr>\n",
              "  <th>Date:</th>          <td>Tue, 16 Jun 2020</td> <th>  AIC                </th> <td>5731.241</td> \n",
              "</tr>\n",
              "<tr>\n",
              "  <th>Time:</th>              <td>10:56:18</td>     <th>  BIC                </th> <td>5783.260</td> \n",
              "</tr>\n",
              "<tr>\n",
              "  <th>Sample:</th>           <td>04-03-2018</td>    <th>  HQIC               </th> <td>5751.833</td> \n",
              "</tr>\n",
              "<tr>\n",
              "  <th></th>                 <td>- 05-11-2019</td>   <th>                     </th>     <td> </td>    \n",
              "</tr>\n",
              "</table>\n",
              "<table class=\"simpletable\">\n",
              "<tr>\n",
              "            <td></td>              <th>coef</th>     <th>std err</th>      <th>z</th>      <th>P>|z|</th>  <th>[0.025</th>    <th>0.975]</th>  \n",
              "</tr>\n",
              "<tr>\n",
              "  <th>const</th>                <td>   -0.0014</td> <td>    0.041</td> <td>   -0.034</td> <td> 0.973</td> <td>   -0.082</td> <td>    0.079</td>\n",
              "</tr>\n",
              "<tr>\n",
              "  <th>ar.L1.D2.AvgNetFare</th>  <td>   -0.6921</td> <td>    0.050</td> <td>  -13.885</td> <td> 0.000</td> <td>   -0.790</td> <td>   -0.594</td>\n",
              "</tr>\n",
              "<tr>\n",
              "  <th>ar.L2.D2.AvgNetFare</th>  <td>   -0.4238</td> <td>    0.061</td> <td>   -6.982</td> <td> 0.000</td> <td>   -0.543</td> <td>   -0.305</td>\n",
              "</tr>\n",
              "<tr>\n",
              "  <th>ar.L3.D2.AvgNetFare</th>  <td>   -0.2802</td> <td>    0.064</td> <td>   -4.353</td> <td> 0.000</td> <td>   -0.406</td> <td>   -0.154</td>\n",
              "</tr>\n",
              "<tr>\n",
              "  <th>ar.L4.D2.AvgNetFare</th>  <td>   -0.1685</td> <td>    0.066</td> <td>   -2.555</td> <td> 0.011</td> <td>   -0.298</td> <td>   -0.039</td>\n",
              "</tr>\n",
              "<tr>\n",
              "  <th>ar.L5.D2.AvgNetFare</th>  <td>   -0.1844</td> <td>    0.066</td> <td>   -2.776</td> <td> 0.006</td> <td>   -0.315</td> <td>   -0.054</td>\n",
              "</tr>\n",
              "<tr>\n",
              "  <th>ar.L6.D2.AvgNetFare</th>  <td>   -0.1263</td> <td>    0.066</td> <td>   -1.900</td> <td> 0.058</td> <td>   -0.257</td> <td>    0.004</td>\n",
              "</tr>\n",
              "<tr>\n",
              "  <th>ar.L7.D2.AvgNetFare</th>  <td>   -0.0027</td> <td>    0.066</td> <td>   -0.040</td> <td> 0.968</td> <td>   -0.133</td> <td>    0.128</td>\n",
              "</tr>\n",
              "<tr>\n",
              "  <th>ar.L8.D2.AvgNetFare</th>  <td>   -0.0132</td> <td>    0.065</td> <td>   -0.203</td> <td> 0.839</td> <td>   -0.140</td> <td>    0.114</td>\n",
              "</tr>\n",
              "<tr>\n",
              "  <th>ar.L9.D2.AvgNetFare</th>  <td>   -0.0427</td> <td>    0.061</td> <td>   -0.701</td> <td> 0.484</td> <td>   -0.162</td> <td>    0.077</td>\n",
              "</tr>\n",
              "<tr>\n",
              "  <th>ar.L10.D2.AvgNetFare</th> <td>    0.0006</td> <td>    0.050</td> <td>    0.012</td> <td> 0.990</td> <td>   -0.097</td> <td>    0.099</td>\n",
              "</tr>\n",
              "<tr>\n",
              "  <th>ma.L1.D2.AvgNetFare</th>  <td>   -0.9999</td> <td>    0.007</td> <td> -151.095</td> <td> 0.000</td> <td>   -1.013</td> <td>   -0.987</td>\n",
              "</tr>\n",
              "</table>\n",
              "<table class=\"simpletable\">\n",
              "<caption>Roots</caption>\n",
              "<tr>\n",
              "    <td></td>    <th>            Real</th>  <th>         Imaginary</th> <th>         Modulus</th>  <th>        Frequency</th>\n",
              "</tr>\n",
              "<tr>\n",
              "  <th>AR.1</th>  <td>          -1.3902</td> <td>          -0.0000j</td> <td>           1.3902</td> <td>          -0.5000</td>\n",
              "</tr>\n",
              "<tr>\n",
              "  <th>AR.2</th>  <td>          -1.1535</td> <td>          -0.7342j</td> <td>           1.3673</td> <td>          -0.4098</td>\n",
              "</tr>\n",
              "<tr>\n",
              "  <th>AR.3</th>  <td>          -1.1535</td> <td>          +0.7342j</td> <td>           1.3673</td> <td>           0.4098</td>\n",
              "</tr>\n",
              "<tr>\n",
              "  <th>AR.4</th>  <td>          -0.3210</td> <td>          -1.2052j</td> <td>           1.2472</td> <td>          -0.2914</td>\n",
              "</tr>\n",
              "<tr>\n",
              "  <th>AR.5</th>  <td>          -0.3210</td> <td>          +1.2052j</td> <td>           1.2472</td> <td>           0.2914</td>\n",
              "</tr>\n",
              "<tr>\n",
              "  <th>AR.6</th>  <td>           0.7429</td> <td>          -1.3193j</td> <td>           1.5140</td> <td>          -0.1684</td>\n",
              "</tr>\n",
              "<tr>\n",
              "  <th>AR.7</th>  <td>           0.7429</td> <td>          +1.3193j</td> <td>           1.5140</td> <td>           0.1684</td>\n",
              "</tr>\n",
              "<tr>\n",
              "  <th>AR.8</th>  <td>           1.2725</td> <td>          -0.9466j</td> <td>           1.5860</td> <td>          -0.1018</td>\n",
              "</tr>\n",
              "<tr>\n",
              "  <th>AR.9</th>  <td>           1.2725</td> <td>          +0.9466j</td> <td>           1.5860</td> <td>           0.1018</td>\n",
              "</tr>\n",
              "<tr>\n",
              "  <th>AR.10</th> <td>          70.8973</td> <td>          -0.0000j</td> <td>          70.8973</td> <td>          -0.0000</td>\n",
              "</tr>\n",
              "<tr>\n",
              "  <th>MA.1</th>  <td>           1.0001</td> <td>          +0.0000j</td> <td>           1.0001</td> <td>           0.0000</td>\n",
              "</tr>\n",
              "</table>"
            ],
            "text/plain": [
              "<class 'statsmodels.iolib.summary.Summary'>\n",
              "\"\"\"\n",
              "                             ARIMA Model Results                              \n",
              "==============================================================================\n",
              "Dep. Variable:          D2.AvgNetFare   No. Observations:                  404\n",
              "Model:                ARIMA(10, 2, 1)   Log Likelihood               -2852.621\n",
              "Method:                       css-mle   S.D. of innovations            278.967\n",
              "Date:                Tue, 16 Jun 2020   AIC                           5731.241\n",
              "Time:                        10:56:18   BIC                           5783.260\n",
              "Sample:                    04-03-2018   HQIC                          5751.833\n",
              "                         - 05-11-2019                                         \n",
              "========================================================================================\n",
              "                           coef    std err          z      P>|z|      [0.025      0.975]\n",
              "----------------------------------------------------------------------------------------\n",
              "const                   -0.0014      0.041     -0.034      0.973      -0.082       0.079\n",
              "ar.L1.D2.AvgNetFare     -0.6921      0.050    -13.885      0.000      -0.790      -0.594\n",
              "ar.L2.D2.AvgNetFare     -0.4238      0.061     -6.982      0.000      -0.543      -0.305\n",
              "ar.L3.D2.AvgNetFare     -0.2802      0.064     -4.353      0.000      -0.406      -0.154\n",
              "ar.L4.D2.AvgNetFare     -0.1685      0.066     -2.555      0.011      -0.298      -0.039\n",
              "ar.L5.D2.AvgNetFare     -0.1844      0.066     -2.776      0.006      -0.315      -0.054\n",
              "ar.L6.D2.AvgNetFare     -0.1263      0.066     -1.900      0.058      -0.257       0.004\n",
              "ar.L7.D2.AvgNetFare     -0.0027      0.066     -0.040      0.968      -0.133       0.128\n",
              "ar.L8.D2.AvgNetFare     -0.0132      0.065     -0.203      0.839      -0.140       0.114\n",
              "ar.L9.D2.AvgNetFare     -0.0427      0.061     -0.701      0.484      -0.162       0.077\n",
              "ar.L10.D2.AvgNetFare     0.0006      0.050      0.012      0.990      -0.097       0.099\n",
              "ma.L1.D2.AvgNetFare     -0.9999      0.007   -151.095      0.000      -1.013      -0.987\n",
              "                                    Roots                                     \n",
              "==============================================================================\n",
              "                   Real          Imaginary           Modulus         Frequency\n",
              "------------------------------------------------------------------------------\n",
              "AR.1            -1.3902           -0.0000j            1.3902           -0.5000\n",
              "AR.2            -1.1535           -0.7342j            1.3673           -0.4098\n",
              "AR.3            -1.1535           +0.7342j            1.3673            0.4098\n",
              "AR.4            -0.3210           -1.2052j            1.2472           -0.2914\n",
              "AR.5            -0.3210           +1.2052j            1.2472            0.2914\n",
              "AR.6             0.7429           -1.3193j            1.5140           -0.1684\n",
              "AR.7             0.7429           +1.3193j            1.5140            0.1684\n",
              "AR.8             1.2725           -0.9466j            1.5860           -0.1018\n",
              "AR.9             1.2725           +0.9466j            1.5860            0.1018\n",
              "AR.10           70.8973           -0.0000j           70.8973           -0.0000\n",
              "MA.1             1.0001           +0.0000j            1.0001            0.0000\n",
              "------------------------------------------------------------------------------\n",
              "\"\"\""
            ]
          },
          "metadata": {
            "tags": []
          },
          "execution_count": 18
        }
      ]
    },
    {
      "cell_type": "code",
      "metadata": {
        "id": "nC5Hhor4-o3L",
        "colab_type": "code",
        "colab": {
          "base_uri": "https://localhost:8080/",
          "height": 71
        },
        "outputId": "98d481cf-f985-419e-da1b-0fd7307adad8"
      },
      "source": [
        "pred = arima.forecast(steps=len(xTest))\n",
        "\n",
        "print(mean_squared_error(xTest,pred[0]))\n",
        "print(np.sqrt(mean_squared_error(xTest,pred[0])))"
      ],
      "execution_count": null,
      "outputs": [
        {
          "output_type": "stream",
          "text": [
            "59535.73125123032\n",
            "243.99944928468653\n"
          ],
          "name": "stdout"
        }
      ]
    },
    {
      "cell_type": "code",
      "metadata": {
        "id": "iAxaH96NCynf",
        "colab_type": "code",
        "colab": {}
      },
      "source": [
        "#pred"
      ],
      "execution_count": null,
      "outputs": []
    },
    {
      "cell_type": "code",
      "metadata": {
        "id": "9OwWUwmTCUwq",
        "colab_type": "code",
        "colab": {
          "base_uri": "https://localhost:8080/",
          "height": 593
        },
        "outputId": "b08616c6-023d-4118-bb10-c102bf5ff2f1"
      },
      "source": [
        "ax=arima.plot_predict(start='2019-05-12' , end='2019-06-10')\n",
        "ax.set_figheight(9)\n",
        "ax.set_figwidth(19)"
      ],
      "execution_count": null,
      "outputs": [
        {
          "output_type": "display_data",
          "data": {
            "image/png": "[encoded data removed]",
            "text/plain": [
              "<Figure size 1368x648 with 1 Axes>"
            ]
          },
          "metadata": {
            "tags": []
          }
        }
      ]
    },
    {
      "cell_type": "code",
      "metadata": {
        "id": "Wd3Nllm3fD2o",
        "colab_type": "code",
        "colab": {}
      },
      "source": [
        "import itertools"
      ],
      "execution_count": null,
      "outputs": []
    },
    {
      "cell_type": "markdown",
      "metadata": {
        "id": "Zr08kbYwfBnN",
        "colab_type": "text"
      },
      "source": [
        "Auto Arima"
      ]
    },
    {
      "cell_type": "code",
      "metadata": {
        "id": "9VAQjTUsn187",
        "colab_type": "code",
        "colab": {
          "base_uri": "https://localhost:8080/",
          "height": 269
        },
        "outputId": "fc7a2612-a920-45cb-f4a3-45edccb6149a"
      },
      "source": [
        "auto = auto_arima(xTrain,start_p=0,start_q=0,d=0,max_d=9,max_p=30,end_q=30,\n",
        "                  start_P=0,start_Q=0,D=0,max_P=30,max_Q=30,max_D=30,\n",
        "                  trace=True,n_jobs=1)\n",
        "\n"
      ],
      "execution_count": null,
      "outputs": [
        {
          "output_type": "stream",
          "text": [
            "Fit ARIMA: order=(0, 0, 0) seasonal_order=(0, 0, 0, 1); AIC=5990.169, BIC=5998.181, Fit time=0.025 seconds\n",
            "Fit ARIMA: order=(1, 0, 0) seasonal_order=(0, 0, 0, 1); AIC=5808.232, BIC=5820.251, Fit time=0.033 seconds\n",
            "Fit ARIMA: order=(0, 0, 1) seasonal_order=(0, 0, 0, 1); AIC=5892.464, BIC=5904.484, Fit time=0.155 seconds\n",
            "Fit ARIMA: order=(2, 0, 0) seasonal_order=(0, 0, 0, 1); AIC=5752.048, BIC=5768.074, Fit time=0.083 seconds\n",
            "Fit ARIMA: order=(2, 0, 1) seasonal_order=(0, 0, 0, 1); AIC=5741.423, BIC=5761.455, Fit time=0.164 seconds\n",
            "Fit ARIMA: order=(3, 0, 2) seasonal_order=(0, 0, 0, 1); AIC=5732.650, BIC=5760.695, Fit time=0.803 seconds\n",
            "Fit ARIMA: order=(2, 0, 2) seasonal_order=(0, 0, 0, 1); AIC=5731.809, BIC=5755.847, Fit time=0.661 seconds\n",
            "Fit ARIMA: order=(2, 0, 3) seasonal_order=(0, 0, 0, 1); AIC=5732.863, BIC=5760.907, Fit time=0.955 seconds\n",
            "Fit ARIMA: order=(1, 0, 1) seasonal_order=(0, 0, 0, 1); AIC=5752.871, BIC=5768.896, Fit time=0.094 seconds\n",
            "Fit ARIMA: order=(3, 0, 3) seasonal_order=(0, 0, 0, 1); AIC=5726.888, BIC=5758.939, Fit time=1.286 seconds\n",
            "Fit ARIMA: order=(4, 0, 3) seasonal_order=(0, 0, 0, 1); AIC=5728.711, BIC=5764.768, Fit time=1.500 seconds\n",
            "Fit ARIMA: order=(3, 0, 4) seasonal_order=(0, 0, 0, 1); AIC=5728.119, BIC=5764.176, Fit time=1.597 seconds\n",
            "Fit ARIMA: order=(4, 0, 4) seasonal_order=(0, 0, 0, 1); AIC=5729.963, BIC=5770.027, Fit time=1.758 seconds\n",
            "Total fit time: 9.118 seconds\n"
          ],
          "name": "stdout"
        }
      ]
    },
    {
      "cell_type": "code",
      "metadata": {
        "id": "8moXTHMi8XV0",
        "colab_type": "code",
        "colab": {}
      },
      "source": [
        "auto = auto.fit(xTrain)\n",
        "pred = auto.predict(len(xTest))"
      ],
      "execution_count": null,
      "outputs": []
    },
    {
      "cell_type": "code",
      "metadata": {
        "id": "gKmwlRnB87WB",
        "colab_type": "code",
        "colab": {
          "base_uri": "https://localhost:8080/",
          "height": 54
        },
        "outputId": "78006d28-baff-479f-b771-79a3a20415d0"
      },
      "source": [
        "mean_squared_error(xTest,pred)\n",
        "np.sqrt(mean_squared_error(xTest,pred))"
      ],
      "execution_count": null,
      "outputs": [
        {
          "output_type": "execute_result",
          "data": {
            "text/plain": [
              "386.57523561500994"
            ]
          },
          "metadata": {
            "tags": []
          },
          "execution_count": 25
        }
      ]
    },
    {
      "cell_type": "markdown",
      "metadata": {
        "id": "Kia9DvKX9ahx",
        "colab_type": "text"
      },
      "source": [
        "Use of SARIMAX"
      ]
    },
    {
      "cell_type": "code",
      "metadata": {
        "id": "ReuVwgO49VRv",
        "colab_type": "code",
        "colab": {
          "base_uri": "https://localhost:8080/",
          "height": 337
        },
        "outputId": "d3218d8f-3b3c-436c-a0c6-08ea99c4adcf"
      },
      "source": [
        "sar = SARIMAX(xTrain,order=(6,2,4),seasonal_order=(6,2,4,24*7),trend='n',)\n",
        "sar= sar.fit()"
      ],
      "execution_count": null,
      "outputs": [
        {
          "output_type": "error",
          "ename": "ValueError",
          "evalue": "ignored",
          "traceback": [
            "\u001b[0;31m---------------------------------------------------------------------------\u001b[0m",
            "\u001b[0;31mValueError\u001b[0m                                Traceback (most recent call last)",
            "\u001b[0;32m<ipython-input-103-f563af88c27b>\u001b[0m in \u001b[0;36m<module>\u001b[0;34m()\u001b[0m\n\u001b[1;32m      1\u001b[0m \u001b[0msar\u001b[0m \u001b[0;34m=\u001b[0m \u001b[0mSARIMAX\u001b[0m\u001b[0;34m(\u001b[0m\u001b[0mxTrain\u001b[0m\u001b[0;34m,\u001b[0m\u001b[0morder\u001b[0m\u001b[0;34m=\u001b[0m\u001b[0;34m(\u001b[0m\u001b[0;36m6\u001b[0m\u001b[0;34m,\u001b[0m\u001b[0;36m2\u001b[0m\u001b[0;34m,\u001b[0m\u001b[0;36m4\u001b[0m\u001b[0;34m)\u001b[0m\u001b[0;34m,\u001b[0m\u001b[0mseasonal_order\u001b[0m\u001b[0;34m=\u001b[0m\u001b[0;34m(\u001b[0m\u001b[0;36m6\u001b[0m\u001b[0;34m,\u001b[0m\u001b[0;36m2\u001b[0m\u001b[0;34m,\u001b[0m\u001b[0;36m4\u001b[0m\u001b[0;34m,\u001b[0m\u001b[0;36m24\u001b[0m\u001b[0;34m*\u001b[0m\u001b[0;36m7\u001b[0m\u001b[0;34m)\u001b[0m\u001b[0;34m,\u001b[0m\u001b[0mtrend\u001b[0m\u001b[0;34m=\u001b[0m\u001b[0;34m'n'\u001b[0m\u001b[0;34m,\u001b[0m\u001b[0;34m)\u001b[0m\u001b[0;34m\u001b[0m\u001b[0;34m\u001b[0m\u001b[0m\n\u001b[0;32m----> 2\u001b[0;31m \u001b[0msar\u001b[0m\u001b[0;34m=\u001b[0m \u001b[0msar\u001b[0m\u001b[0;34m.\u001b[0m\u001b[0mfit\u001b[0m\u001b[0;34m(\u001b[0m\u001b[0;34m)\u001b[0m\u001b[0;34m\u001b[0m\u001b[0;34m\u001b[0m\u001b[0m\n\u001b[0m",
            "\u001b[0;32m/usr/local/lib/python3.6/dist-packages/statsmodels/tsa/statespace/mlemodel.py\u001b[0m in \u001b[0;36mfit\u001b[0;34m(self, start_params, transformed, cov_type, cov_kwds, method, maxiter, full_output, disp, callback, return_params, optim_score, optim_complex_step, optim_hessian, flags, **kwargs)\u001b[0m\n\u001b[1;32m    444\u001b[0m         \"\"\"\n\u001b[1;32m    445\u001b[0m         \u001b[0;32mif\u001b[0m \u001b[0mstart_params\u001b[0m \u001b[0;32mis\u001b[0m \u001b[0;32mNone\u001b[0m\u001b[0;34m:\u001b[0m\u001b[0;34m\u001b[0m\u001b[0;34m\u001b[0m\u001b[0m\n\u001b[0;32m--> 446\u001b[0;31m             \u001b[0mstart_params\u001b[0m \u001b[0;34m=\u001b[0m \u001b[0mself\u001b[0m\u001b[0;34m.\u001b[0m\u001b[0mstart_params\u001b[0m\u001b[0;34m\u001b[0m\u001b[0;34m\u001b[0m\u001b[0m\n\u001b[0m\u001b[1;32m    447\u001b[0m             \u001b[0mtransformed\u001b[0m \u001b[0;34m=\u001b[0m \u001b[0;32mTrue\u001b[0m\u001b[0;34m\u001b[0m\u001b[0;34m\u001b[0m\u001b[0m\n\u001b[1;32m    448\u001b[0m \u001b[0;34m\u001b[0m\u001b[0m\n",
            "\u001b[0;32m/usr/local/lib/python3.6/dist-packages/statsmodels/tsa/statespace/sarimax.py\u001b[0m in \u001b[0;36mstart_params\u001b[0;34m(self)\u001b[0m\n\u001b[1;32m    967\u001b[0m             self._conditional_sum_squares(\n\u001b[1;32m    968\u001b[0m                 \u001b[0mendog\u001b[0m\u001b[0;34m,\u001b[0m \u001b[0mself\u001b[0m\u001b[0;34m.\u001b[0m\u001b[0mk_seasonal_ar\u001b[0m\u001b[0;34m,\u001b[0m \u001b[0mself\u001b[0m\u001b[0;34m.\u001b[0m\u001b[0mpolynomial_seasonal_ar\u001b[0m\u001b[0;34m,\u001b[0m\u001b[0;34m\u001b[0m\u001b[0;34m\u001b[0m\u001b[0m\n\u001b[0;32m--> 969\u001b[0;31m                 \u001b[0mself\u001b[0m\u001b[0;34m.\u001b[0m\u001b[0mk_seasonal_ma\u001b[0m\u001b[0;34m,\u001b[0m \u001b[0mself\u001b[0m\u001b[0;34m.\u001b[0m\u001b[0mpolynomial_seasonal_ma\u001b[0m\u001b[0;34m\u001b[0m\u001b[0;34m\u001b[0m\u001b[0m\n\u001b[0m\u001b[1;32m    970\u001b[0m             )\n\u001b[1;32m    971\u001b[0m         )\n",
            "\u001b[0;32m/usr/local/lib/python3.6/dist-packages/statsmodels/tsa/statespace/sarimax.py\u001b[0m in \u001b[0;36m_conditional_sum_squares\u001b[0;34m(endog, k_ar, polynomial_ar, k_ma, polynomial_ma, k_trend, trend_data)\u001b[0m\n\u001b[1;32m    843\u001b[0m             \u001b[0;32mif\u001b[0m \u001b[0mk_ma\u001b[0m \u001b[0;34m>\u001b[0m \u001b[0;36m0\u001b[0m\u001b[0;34m:\u001b[0m\u001b[0;34m\u001b[0m\u001b[0;34m\u001b[0m\u001b[0m\n\u001b[1;32m    844\u001b[0m                 \u001b[0mY\u001b[0m \u001b[0;34m=\u001b[0m \u001b[0mendog\u001b[0m\u001b[0;34m[\u001b[0m\u001b[0mk\u001b[0m\u001b[0;34m:\u001b[0m\u001b[0;34m]\u001b[0m\u001b[0;34m\u001b[0m\u001b[0;34m\u001b[0m\u001b[0m\n\u001b[0;32m--> 845\u001b[0;31m                 \u001b[0mX\u001b[0m \u001b[0;34m=\u001b[0m \u001b[0mlagmat\u001b[0m\u001b[0;34m(\u001b[0m\u001b[0mendog\u001b[0m\u001b[0;34m,\u001b[0m \u001b[0mk\u001b[0m\u001b[0;34m,\u001b[0m \u001b[0mtrim\u001b[0m\u001b[0;34m=\u001b[0m\u001b[0;34m'both'\u001b[0m\u001b[0;34m)\u001b[0m\u001b[0;34m\u001b[0m\u001b[0;34m\u001b[0m\u001b[0m\n\u001b[0m\u001b[1;32m    846\u001b[0m                 \u001b[0mparams_ar\u001b[0m \u001b[0;34m=\u001b[0m \u001b[0mnp\u001b[0m\u001b[0;34m.\u001b[0m\u001b[0mlinalg\u001b[0m\u001b[0;34m.\u001b[0m\u001b[0mpinv\u001b[0m\u001b[0;34m(\u001b[0m\u001b[0mX\u001b[0m\u001b[0;34m)\u001b[0m\u001b[0;34m.\u001b[0m\u001b[0mdot\u001b[0m\u001b[0;34m(\u001b[0m\u001b[0mY\u001b[0m\u001b[0;34m)\u001b[0m\u001b[0;34m\u001b[0m\u001b[0;34m\u001b[0m\u001b[0m\n\u001b[1;32m    847\u001b[0m                 \u001b[0mresiduals\u001b[0m \u001b[0;34m=\u001b[0m \u001b[0mY\u001b[0m \u001b[0;34m-\u001b[0m \u001b[0mnp\u001b[0m\u001b[0;34m.\u001b[0m\u001b[0mdot\u001b[0m\u001b[0;34m(\u001b[0m\u001b[0mX\u001b[0m\u001b[0;34m,\u001b[0m \u001b[0mparams_ar\u001b[0m\u001b[0;34m)\u001b[0m\u001b[0;34m\u001b[0m\u001b[0;34m\u001b[0m\u001b[0m\n",
            "\u001b[0;32m/usr/local/lib/python3.6/dist-packages/statsmodels/tsa/tsatools.py\u001b[0m in \u001b[0;36mlagmat\u001b[0;34m(x, maxlag, trim, original, use_pandas)\u001b[0m\n\u001b[1;32m    406\u001b[0m         \u001b[0mdropidx\u001b[0m \u001b[0;34m=\u001b[0m \u001b[0mnvar\u001b[0m\u001b[0;34m\u001b[0m\u001b[0;34m\u001b[0m\u001b[0m\n\u001b[1;32m    407\u001b[0m     \u001b[0;32mif\u001b[0m \u001b[0mmaxlag\u001b[0m \u001b[0;34m>=\u001b[0m \u001b[0mnobs\u001b[0m\u001b[0;34m:\u001b[0m\u001b[0;34m\u001b[0m\u001b[0;34m\u001b[0m\u001b[0m\n\u001b[0;32m--> 408\u001b[0;31m         \u001b[0;32mraise\u001b[0m \u001b[0mValueError\u001b[0m\u001b[0;34m(\u001b[0m\u001b[0;34m\"maxlag should be < nobs\"\u001b[0m\u001b[0;34m)\u001b[0m\u001b[0;34m\u001b[0m\u001b[0;34m\u001b[0m\u001b[0m\n\u001b[0m\u001b[1;32m    409\u001b[0m     \u001b[0mlm\u001b[0m \u001b[0;34m=\u001b[0m \u001b[0mnp\u001b[0m\u001b[0;34m.\u001b[0m\u001b[0mzeros\u001b[0m\u001b[0;34m(\u001b[0m\u001b[0;34m(\u001b[0m\u001b[0mnobs\u001b[0m \u001b[0;34m+\u001b[0m \u001b[0mmaxlag\u001b[0m\u001b[0;34m,\u001b[0m \u001b[0mnvar\u001b[0m \u001b[0;34m*\u001b[0m \u001b[0;34m(\u001b[0m\u001b[0mmaxlag\u001b[0m \u001b[0;34m+\u001b[0m \u001b[0;36m1\u001b[0m\u001b[0;34m)\u001b[0m\u001b[0;34m)\u001b[0m\u001b[0;34m)\u001b[0m\u001b[0;34m\u001b[0m\u001b[0;34m\u001b[0m\u001b[0m\n\u001b[1;32m    410\u001b[0m     \u001b[0;32mfor\u001b[0m \u001b[0mk\u001b[0m \u001b[0;32min\u001b[0m \u001b[0mrange\u001b[0m\u001b[0;34m(\u001b[0m\u001b[0;36m0\u001b[0m\u001b[0;34m,\u001b[0m \u001b[0mint\u001b[0m\u001b[0;34m(\u001b[0m\u001b[0mmaxlag\u001b[0m \u001b[0;34m+\u001b[0m \u001b[0;36m1\u001b[0m\u001b[0;34m)\u001b[0m\u001b[0;34m)\u001b[0m\u001b[0;34m:\u001b[0m\u001b[0;34m\u001b[0m\u001b[0;34m\u001b[0m\u001b[0m\n",
            "\u001b[0;31mValueError\u001b[0m: maxlag should be < nobs"
          ]
        }
      ]
    },
    {
      "cell_type": "code",
      "metadata": {
        "id": "31vV5LC9AZLY",
        "colab_type": "code",
        "colab": {}
      },
      "source": [
        "pred = sar.forecast(steps=len(xTest))\n",
        "\n",
        "print(mean_squared_error(xTest,pred))\n",
        "print(np.sqrt(mean_squared_error(xTest,pred)))"
      ],
      "execution_count": null,
      "outputs": []
    },
    {
      "cell_type": "code",
      "metadata": {
        "id": "QPidfkXNdu_w",
        "colab_type": "code",
        "colab": {}
      },
      "source": [
        "sar = SARIMAX(data['AvgNetFare'],order=(6,2,4),seasonal_order=(6,2,4,12),trend='n',)\n",
        "sar= sar.fit()"
      ],
      "execution_count": null,
      "outputs": []
    },
    {
      "cell_type": "code",
      "metadata": {
        "id": "ma6-oKaidvDN",
        "colab_type": "code",
        "colab": {}
      },
      "source": [
        "pred = sar.forecast(steps=len(xTest))"
      ],
      "execution_count": null,
      "outputs": []
    },
    {
      "cell_type": "code",
      "metadata": {
        "id": "x3TxdDcsz4bj",
        "colab_type": "code",
        "colab": {
          "base_uri": "https://localhost:8080/",
          "height": 574
        },
        "outputId": "4bac99e5-340e-45b4-c34a-00d911548a85"
      },
      "source": [
        "plt.figure(figsize=size)\n",
        "sns.lineplot(data=data['AvgNetFare'])\n",
        "sns.lineplot(data=pred)\n",
        "\n"
      ],
      "execution_count": null,
      "outputs": [
        {
          "output_type": "execute_result",
          "data": {
            "text/plain": [
              "<matplotlib.axes._subplots.AxesSubplot at 0x7fc7b10a45f8>"
            ]
          },
          "metadata": {
            "tags": []
          },
          "execution_count": 101
        },
        {
          "output_type": "display_data",
          "data": {
            "image/png": "[encoded data removed]",
            "text/plain": [
              "<Figure size 1368x648 with 1 Axes>"
            ]
          },
          "metadata": {
            "tags": []
          }
        }
      ]
    },
    {
      "cell_type": "code",
      "metadata": {
        "id": "4gzPpb1Mz4Oa",
        "colab_type": "code",
        "colab": {
          "base_uri": "https://localhost:8080/",
          "height": 984
        },
        "outputId": "3a95bc1a-afa2-4fb0-a306-dca9705e7fc1"
      },
      "source": [
        "pred = pd.DataFrame(pred,columns=['AvgNetFare'])\n",
        "pred"
      ],
      "execution_count": null,
      "outputs": [
        {
          "output_type": "execute_result",
          "data": {
            "text/html": [
              "<div>\n",
              "<style scoped>\n",
              "    .dataframe tbody tr th:only-of-type {\n",
              "        vertical-align: middle;\n",
              "    }\n",
              "\n",
              "    .dataframe tbody tr th {\n",
              "        vertical-align: top;\n",
              "    }\n",
              "\n",
              "    .dataframe thead th {\n",
              "        text-align: right;\n",
              "    }\n",
              "</style>\n",
              "<table border=\"1\" class=\"dataframe\">\n",
              "  <thead>\n",
              "    <tr style=\"text-align: right;\">\n",
              "      <th></th>\n",
              "      <th>AvgNetFare</th>\n",
              "    </tr>\n",
              "  </thead>\n",
              "  <tbody>\n",
              "    <tr>\n",
              "      <th>2019-06-11</th>\n",
              "      <td>3372.877192</td>\n",
              "    </tr>\n",
              "    <tr>\n",
              "      <th>2019-06-12</th>\n",
              "      <td>3324.852336</td>\n",
              "    </tr>\n",
              "    <tr>\n",
              "      <th>2019-06-13</th>\n",
              "      <td>3358.170956</td>\n",
              "    </tr>\n",
              "    <tr>\n",
              "      <th>2019-06-14</th>\n",
              "      <td>3574.116933</td>\n",
              "    </tr>\n",
              "    <tr>\n",
              "      <th>2019-06-15</th>\n",
              "      <td>3305.811900</td>\n",
              "    </tr>\n",
              "    <tr>\n",
              "      <th>2019-06-16</th>\n",
              "      <td>3256.904233</td>\n",
              "    </tr>\n",
              "    <tr>\n",
              "      <th>2019-06-17</th>\n",
              "      <td>3222.134651</td>\n",
              "    </tr>\n",
              "    <tr>\n",
              "      <th>2019-06-18</th>\n",
              "      <td>3297.728765</td>\n",
              "    </tr>\n",
              "    <tr>\n",
              "      <th>2019-06-19</th>\n",
              "      <td>3064.880529</td>\n",
              "    </tr>\n",
              "    <tr>\n",
              "      <th>2019-06-20</th>\n",
              "      <td>3064.797902</td>\n",
              "    </tr>\n",
              "    <tr>\n",
              "      <th>2019-06-21</th>\n",
              "      <td>3082.666238</td>\n",
              "    </tr>\n",
              "    <tr>\n",
              "      <th>2019-06-22</th>\n",
              "      <td>3154.179538</td>\n",
              "    </tr>\n",
              "    <tr>\n",
              "      <th>2019-06-23</th>\n",
              "      <td>3029.745964</td>\n",
              "    </tr>\n",
              "    <tr>\n",
              "      <th>2019-06-24</th>\n",
              "      <td>2897.152288</td>\n",
              "    </tr>\n",
              "    <tr>\n",
              "      <th>2019-06-25</th>\n",
              "      <td>2873.086665</td>\n",
              "    </tr>\n",
              "    <tr>\n",
              "      <th>2019-06-26</th>\n",
              "      <td>3224.213789</td>\n",
              "    </tr>\n",
              "    <tr>\n",
              "      <th>2019-06-27</th>\n",
              "      <td>2938.718716</td>\n",
              "    </tr>\n",
              "    <tr>\n",
              "      <th>2019-06-28</th>\n",
              "      <td>2929.107732</td>\n",
              "    </tr>\n",
              "    <tr>\n",
              "      <th>2019-06-29</th>\n",
              "      <td>2820.714329</td>\n",
              "    </tr>\n",
              "    <tr>\n",
              "      <th>2019-06-30</th>\n",
              "      <td>2937.178373</td>\n",
              "    </tr>\n",
              "    <tr>\n",
              "      <th>2019-07-01</th>\n",
              "      <td>2743.813653</td>\n",
              "    </tr>\n",
              "    <tr>\n",
              "      <th>2019-07-02</th>\n",
              "      <td>2726.579556</td>\n",
              "    </tr>\n",
              "    <tr>\n",
              "      <th>2019-07-03</th>\n",
              "      <td>2741.022360</td>\n",
              "    </tr>\n",
              "    <tr>\n",
              "      <th>2019-07-04</th>\n",
              "      <td>2776.521610</td>\n",
              "    </tr>\n",
              "    <tr>\n",
              "      <th>2019-07-05</th>\n",
              "      <td>2628.883721</td>\n",
              "    </tr>\n",
              "    <tr>\n",
              "      <th>2019-07-06</th>\n",
              "      <td>2472.231934</td>\n",
              "    </tr>\n",
              "    <tr>\n",
              "      <th>2019-07-07</th>\n",
              "      <td>2470.529204</td>\n",
              "    </tr>\n",
              "    <tr>\n",
              "      <th>2019-07-08</th>\n",
              "      <td>2855.002763</td>\n",
              "    </tr>\n",
              "    <tr>\n",
              "      <th>2019-07-09</th>\n",
              "      <td>2502.410315</td>\n",
              "    </tr>\n",
              "    <tr>\n",
              "      <th>2019-07-10</th>\n",
              "      <td>2519.382730</td>\n",
              "    </tr>\n",
              "  </tbody>\n",
              "</table>\n",
              "</div>"
            ],
            "text/plain": [
              "             AvgNetFare\n",
              "2019-06-11  3372.877192\n",
              "2019-06-12  3324.852336\n",
              "2019-06-13  3358.170956\n",
              "2019-06-14  3574.116933\n",
              "2019-06-15  3305.811900\n",
              "2019-06-16  3256.904233\n",
              "2019-06-17  3222.134651\n",
              "2019-06-18  3297.728765\n",
              "2019-06-19  3064.880529\n",
              "2019-06-20  3064.797902\n",
              "2019-06-21  3082.666238\n",
              "2019-06-22  3154.179538\n",
              "2019-06-23  3029.745964\n",
              "2019-06-24  2897.152288\n",
              "2019-06-25  2873.086665\n",
              "2019-06-26  3224.213789\n",
              "2019-06-27  2938.718716\n",
              "2019-06-28  2929.107732\n",
              "2019-06-29  2820.714329\n",
              "2019-06-30  2937.178373\n",
              "2019-07-01  2743.813653\n",
              "2019-07-02  2726.579556\n",
              "2019-07-03  2741.022360\n",
              "2019-07-04  2776.521610\n",
              "2019-07-05  2628.883721\n",
              "2019-07-06  2472.231934\n",
              "2019-07-07  2470.529204\n",
              "2019-07-08  2855.002763\n",
              "2019-07-09  2502.410315\n",
              "2019-07-10  2519.382730"
            ]
          },
          "metadata": {
            "tags": []
          },
          "execution_count": 111
        }
      ]
    },
    {
      "cell_type": "code",
      "metadata": {
        "id": "J4WjMls88e5y",
        "colab_type": "code",
        "colab": {
          "base_uri": "https://localhost:8080/",
          "height": 252
        },
        "outputId": "39d41e77-0a3e-4c44-be31-ecb75d0cec91"
      },
      "source": [
        "data.tail()"
      ],
      "execution_count": null,
      "outputs": [
        {
          "output_type": "execute_result",
          "data": {
            "text/html": [
              "<div>\n",
              "<style scoped>\n",
              "    .dataframe tbody tr th:only-of-type {\n",
              "        vertical-align: middle;\n",
              "    }\n",
              "\n",
              "    .dataframe tbody tr th {\n",
              "        vertical-align: top;\n",
              "    }\n",
              "\n",
              "    .dataframe thead th {\n",
              "        text-align: right;\n",
              "    }\n",
              "</style>\n",
              "<table border=\"1\" class=\"dataframe\">\n",
              "  <thead>\n",
              "    <tr style=\"text-align: right;\">\n",
              "      <th></th>\n",
              "      <th>AvgNetFare</th>\n",
              "      <th>TotalNetFare</th>\n",
              "    </tr>\n",
              "    <tr>\n",
              "      <th>InvoiceDate</th>\n",
              "      <th></th>\n",
              "      <th></th>\n",
              "    </tr>\n",
              "  </thead>\n",
              "  <tbody>\n",
              "    <tr>\n",
              "      <th>2019-06-06</th>\n",
              "      <td>3659.568144</td>\n",
              "      <td>2228677.0</td>\n",
              "    </tr>\n",
              "    <tr>\n",
              "      <th>2019-06-07</th>\n",
              "      <td>3563.161905</td>\n",
              "      <td>2244792.0</td>\n",
              "    </tr>\n",
              "    <tr>\n",
              "      <th>2019-06-08</th>\n",
              "      <td>3426.708642</td>\n",
              "      <td>1387817.0</td>\n",
              "    </tr>\n",
              "    <tr>\n",
              "      <th>2019-06-09</th>\n",
              "      <td>3414.024390</td>\n",
              "      <td>559900.0</td>\n",
              "    </tr>\n",
              "    <tr>\n",
              "      <th>2019-06-10</th>\n",
              "      <td>3491.726248</td>\n",
              "      <td>2168362.0</td>\n",
              "    </tr>\n",
              "  </tbody>\n",
              "</table>\n",
              "</div>"
            ],
            "text/plain": [
              "              AvgNetFare  TotalNetFare\n",
              "InvoiceDate                           \n",
              "2019-06-06   3659.568144     2228677.0\n",
              "2019-06-07   3563.161905     2244792.0\n",
              "2019-06-08   3426.708642     1387817.0\n",
              "2019-06-09   3414.024390      559900.0\n",
              "2019-06-10   3491.726248     2168362.0"
            ]
          },
          "metadata": {
            "tags": []
          },
          "execution_count": 105
        }
      ]
    },
    {
      "cell_type": "code",
      "metadata": {
        "id": "h11YC1v38XEq",
        "colab_type": "code",
        "colab": {}
      },
      "source": [
        "predDomestic = pd.DataFrame(data['AvgNetFare'])\n",
        "predDomestic = predDomestic.append(pred)\n",
        "\n",
        "predDomestic.to_csv('/content/drive/My Drive/ColabDataset/PredictedDomesticDataset.csv')"
      ],
      "execution_count": null,
      "outputs": []
    },
    {
      "cell_type": "code",
      "metadata": {
        "id": "KjG-qIvRBm9S",
        "colab_type": "code",
        "colab": {
          "base_uri": "https://localhost:8080/",
          "height": 433
        },
        "outputId": "30f02283-c344-48b3-f09e-6d27182610df"
      },
      "source": [
        "predDomestic"
      ],
      "execution_count": null,
      "outputs": [
        {
          "output_type": "execute_result",
          "data": {
            "text/html": [
              "<div>\n",
              "<style scoped>\n",
              "    .dataframe tbody tr th:only-of-type {\n",
              "        vertical-align: middle;\n",
              "    }\n",
              "\n",
              "    .dataframe tbody tr th {\n",
              "        vertical-align: top;\n",
              "    }\n",
              "\n",
              "    .dataframe thead th {\n",
              "        text-align: right;\n",
              "    }\n",
              "</style>\n",
              "<table border=\"1\" class=\"dataframe\">\n",
              "  <thead>\n",
              "    <tr style=\"text-align: right;\">\n",
              "      <th></th>\n",
              "      <th>AvgNetFare</th>\n",
              "    </tr>\n",
              "  </thead>\n",
              "  <tbody>\n",
              "    <tr>\n",
              "      <th>2018-04-01</th>\n",
              "      <td>4276.300000</td>\n",
              "    </tr>\n",
              "    <tr>\n",
              "      <th>2018-04-02</th>\n",
              "      <td>4197.466667</td>\n",
              "    </tr>\n",
              "    <tr>\n",
              "      <th>2018-04-03</th>\n",
              "      <td>4163.578125</td>\n",
              "    </tr>\n",
              "    <tr>\n",
              "      <th>2018-04-04</th>\n",
              "      <td>4112.812500</td>\n",
              "    </tr>\n",
              "    <tr>\n",
              "      <th>2018-04-05</th>\n",
              "      <td>3977.666667</td>\n",
              "    </tr>\n",
              "    <tr>\n",
              "      <th>...</th>\n",
              "      <td>...</td>\n",
              "    </tr>\n",
              "    <tr>\n",
              "      <th>2019-07-06</th>\n",
              "      <td>2472.231934</td>\n",
              "    </tr>\n",
              "    <tr>\n",
              "      <th>2019-07-07</th>\n",
              "      <td>2470.529204</td>\n",
              "    </tr>\n",
              "    <tr>\n",
              "      <th>2019-07-08</th>\n",
              "      <td>2855.002763</td>\n",
              "    </tr>\n",
              "    <tr>\n",
              "      <th>2019-07-09</th>\n",
              "      <td>2502.410315</td>\n",
              "    </tr>\n",
              "    <tr>\n",
              "      <th>2019-07-10</th>\n",
              "      <td>2519.382730</td>\n",
              "    </tr>\n",
              "  </tbody>\n",
              "</table>\n",
              "<p>466 rows × 1 columns</p>\n",
              "</div>"
            ],
            "text/plain": [
              "             AvgNetFare\n",
              "2018-04-01  4276.300000\n",
              "2018-04-02  4197.466667\n",
              "2018-04-03  4163.578125\n",
              "2018-04-04  4112.812500\n",
              "2018-04-05  3977.666667\n",
              "...                 ...\n",
              "2019-07-06  2472.231934\n",
              "2019-07-07  2470.529204\n",
              "2019-07-08  2855.002763\n",
              "2019-07-09  2502.410315\n",
              "2019-07-10  2519.382730\n",
              "\n",
              "[466 rows x 1 columns]"
            ]
          },
          "metadata": {
            "tags": []
          },
          "execution_count": 115
        }
      ]
    },
    {
      "cell_type": "markdown",
      "metadata": {
        "id": "LiEJz_z5gqne",
        "colab_type": "text"
      },
      "source": [
        "LSTM"
      ]
    },
    {
      "cell_type": "code",
      "metadata": {
        "id": "bouzaUizApqa",
        "colab_type": "code",
        "colab": {
          "base_uri": "https://localhost:8080/",
          "height": 54
        },
        "outputId": "430e9932-9d5a-4f0e-ea56-2b76c2774bea"
      },
      "source": [
        "from keras.layers import Dense,LSTM\n",
        "from keras.models import Sequential\n",
        "from keras.preprocessing.sequence import TimeseriesGenerator\n",
        "from keras.callbacks import EarlyStopping\n",
        "from sklearn.preprocessing import StandardScaler"
      ],
      "execution_count": null,
      "outputs": [
        {
          "output_type": "stream",
          "text": [
            "Using TensorFlow backend.\n"
          ],
          "name": "stderr"
        }
      ]
    },
    {
      "cell_type": "code",
      "metadata": {
        "id": "5dq7qSOZA9kM",
        "colab_type": "code",
        "colab": {}
      },
      "source": [
        "xTrain = np.array(xTrain).reshape(-1,1)\n",
        "xTest = np.array(xTest).reshape(-1,1)"
      ],
      "execution_count": null,
      "outputs": []
    },
    {
      "cell_type": "code",
      "metadata": {
        "id": "juFYx2gKg5Ec",
        "colab_type": "code",
        "colab": {}
      },
      "source": [
        "scaler = StandardScaler()\n",
        "scaledTrain = scaler.fit_transform(xTrain)\n",
        "scaledTest = scaler.fit_transform(xTest)"
      ],
      "execution_count": null,
      "outputs": []
    },
    {
      "cell_type": "code",
      "metadata": {
        "id": "1EStEEPqg7Pi",
        "colab_type": "code",
        "colab": {}
      },
      "source": [
        "length= 10\n",
        "batch = 1"
      ],
      "execution_count": null,
      "outputs": []
    },
    {
      "cell_type": "code",
      "metadata": {
        "id": "IYpO-SJ_g9X9",
        "colab_type": "code",
        "colab": {}
      },
      "source": [
        "trainGen = TimeseriesGenerator(scaledTrain,scaledTrain,length=length,batch_size=batch)\n",
        "testGen = TimeseriesGenerator(scaledTest,scaledTest,length=length,batch_size=batch)"
      ],
      "execution_count": null,
      "outputs": []
    },
    {
      "cell_type": "code",
      "metadata": {
        "id": "Vu6sOVClhC8l",
        "colab_type": "code",
        "colab": {}
      },
      "source": [
        "model = Sequential()\n",
        "\n",
        "model.add(LSTM(406,activation='relu',input_shape=(length,1)))\n",
        "#model.add(Dense(50,activation='relu'))\n",
        "model.add(Dense(1))\n",
        "\n",
        "model.compile(optimizer='adam',loss='mse')"
      ],
      "execution_count": null,
      "outputs": []
    },
    {
      "cell_type": "code",
      "metadata": {
        "id": "YNN8SNa8hFEw",
        "colab_type": "code",
        "colab": {}
      },
      "source": [
        "call = EarlyStopping(patience=4,monitor='val_loss',verbose=0)"
      ],
      "execution_count": null,
      "outputs": []
    },
    {
      "cell_type": "code",
      "metadata": {
        "id": "eNL4fAy9hHID",
        "colab_type": "code",
        "colab": {
          "base_uri": "https://localhost:8080/",
          "height": 286
        },
        "outputId": "c6f0e530-c81b-449a-f3c2-350eca46d333"
      },
      "source": [
        "model.fit_generator(trainGen,validation_data=testGen,epochs=100,callbacks=[call])"
      ],
      "execution_count": null,
      "outputs": [
        {
          "output_type": "stream",
          "text": [
            "Epoch 1/100\n",
            "396/396 [==============================] - 10s 25ms/step - loss: 0.8317 - val_loss: 0.4145\n",
            "Epoch 2/100\n",
            "396/396 [==============================] - 10s 24ms/step - loss: 0.6253 - val_loss: 0.1807\n",
            "Epoch 3/100\n",
            "396/396 [==============================] - 10s 24ms/step - loss: 0.5610 - val_loss: 0.0944\n",
            "Epoch 4/100\n",
            "396/396 [==============================] - 10s 26ms/step - loss: 0.5496 - val_loss: 0.2333\n",
            "Epoch 5/100\n",
            "396/396 [==============================] - 10s 26ms/step - loss: 0.5446 - val_loss: 0.1037\n",
            "Epoch 6/100\n",
            "396/396 [==============================] - 10s 26ms/step - loss: 0.5316 - val_loss: 0.2329\n",
            "Epoch 7/100\n",
            "396/396 [==============================] - 10s 26ms/step - loss: 0.5340 - val_loss: 0.1322\n"
          ],
          "name": "stdout"
        },
        {
          "output_type": "execute_result",
          "data": {
            "text/plain": [
              "<keras.callbacks.callbacks.History at 0x7fc7b7d31a58>"
            ]
          },
          "metadata": {
            "tags": []
          },
          "execution_count": 35
        }
      ]
    },
    {
      "cell_type": "code",
      "metadata": {
        "id": "2YdIAy3LhJDG",
        "colab_type": "code",
        "colab": {}
      },
      "source": [
        "his = pd.DataFrame(model.history.history)"
      ],
      "execution_count": null,
      "outputs": []
    },
    {
      "cell_type": "code",
      "metadata": {
        "id": "6gfsECfBhLps",
        "colab_type": "code",
        "colab": {
          "base_uri": "https://localhost:8080/",
          "height": 574
        },
        "outputId": "51230b10-bd77-458a-b40e-a977b4614068"
      },
      "source": [
        "his.plot(figsize=size)"
      ],
      "execution_count": null,
      "outputs": [
        {
          "output_type": "execute_result",
          "data": {
            "text/plain": [
              "<matplotlib.axes._subplots.AxesSubplot at 0x7fc7b7c18f28>"
            ]
          },
          "metadata": {
            "tags": []
          },
          "execution_count": 37
        },
        {
          "output_type": "display_data",
          "data": {
            "image/png": "[encoded data removed]",
            "text/plain": [
              "<Figure size 1368x648 with 1 Axes>"
            ]
          },
          "metadata": {
            "tags": []
          }
        }
      ]
    },
    {
      "cell_type": "code",
      "metadata": {
        "id": "3B6tkYxZhNX8",
        "colab_type": "code",
        "colab": {}
      },
      "source": [
        "pred = list()\n",
        "train = np.array(scaledTrain[-length:]).reshape((1,length,batch))\n",
        "\n",
        "for x in range(len(xTest)):\n",
        "  i = model.predict(train)[0]\n",
        "  pred.append(i)\n",
        "\n",
        "  train = np.append(train[:,1:,:],[[i]],axis=1)"
      ],
      "execution_count": null,
      "outputs": []
    },
    {
      "cell_type": "code",
      "metadata": {
        "id": "oj9vGMYKhSSM",
        "colab_type": "code",
        "colab": {
          "base_uri": "https://localhost:8080/",
          "height": 54
        },
        "outputId": "a7997e0d-3c09-4b0e-e552-3e879463da36"
      },
      "source": [
        "newpred = scaler.inverse_transform(pred)\n",
        "np.sqrt(mean_squared_error(xTest,newpred))"
      ],
      "execution_count": null,
      "outputs": [
        {
          "output_type": "execute_result",
          "data": {
            "text/plain": [
              "218.40644406477685"
            ]
          },
          "metadata": {
            "tags": []
          },
          "execution_count": 39
        }
      ]
    },
    {
      "cell_type": "markdown",
      "metadata": {
        "id": "KSQGZSdMi70m",
        "colab_type": "text"
      },
      "source": [
        "Facebook Prophet"
      ]
    },
    {
      "cell_type": "code",
      "metadata": {
        "id": "IjzTB4gGi6U1",
        "colab_type": "code",
        "colab": {}
      },
      "source": [
        "from fbprophet import Prophet"
      ],
      "execution_count": null,
      "outputs": []
    },
    {
      "cell_type": "code",
      "metadata": {
        "id": "RVE3z-cFjAbv",
        "colab_type": "code",
        "colab": {}
      },
      "source": [
        "prophetData.columns = ['ds','y']\n",
        "\n",
        "xTrain,xTest = prophetData.iloc[:406],prophetData.iloc[406:]"
      ],
      "execution_count": null,
      "outputs": []
    },
    {
      "cell_type": "code",
      "metadata": {
        "id": "IOiZeeQojEhf",
        "colab_type": "code",
        "colab": {}
      },
      "source": [
        "prop = Prophet(growth='linear',seasonality_mode='multiplicative',daily_seasonality=True,\n",
        "               changepoint_range=0.001,)"
      ],
      "execution_count": null,
      "outputs": []
    },
    {
      "cell_type": "code",
      "metadata": {
        "id": "kZRFRBO_kK3k",
        "colab_type": "code",
        "colab": {
          "base_uri": "https://localhost:8080/",
          "height": 104
        },
        "outputId": "12ef3a7d-1b35-43ca-ea58-15541efe143b"
      },
      "source": [
        "prop.fit(xTrain)"
      ],
      "execution_count": null,
      "outputs": [
        {
          "output_type": "stream",
          "text": [
            "INFO:fbprophet:Disabling yearly seasonality. Run prophet with yearly_seasonality=True to override this.\n",
            "INFO:fbprophet:n_changepoints greater than number of observations. Using -1.\n",
            "WARNING:fbprophet:Optimization terminated abnormally. Falling back to Newton.\n"
          ],
          "name": "stderr"
        },
        {
          "output_type": "execute_result",
          "data": {
            "text/plain": [
              "<fbprophet.forecaster.Prophet at 0x7fc7b762c3c8>"
            ]
          },
          "metadata": {
            "tags": []
          },
          "execution_count": 43
        }
      ]
    },
    {
      "cell_type": "code",
      "metadata": {
        "id": "kYfYsLBEkRZq",
        "colab_type": "code",
        "colab": {}
      },
      "source": [
        "predict = prop.make_future_dataframe(periods=30,freq='D')"
      ],
      "execution_count": null,
      "outputs": []
    },
    {
      "cell_type": "code",
      "metadata": {
        "id": "ual9q-Gckbg6",
        "colab_type": "code",
        "colab": {}
      },
      "source": [
        "forecast = prop.predict(predict)"
      ],
      "execution_count": null,
      "outputs": []
    },
    {
      "cell_type": "code",
      "metadata": {
        "id": "1qYGZ7TVkvhP",
        "colab_type": "code",
        "colab": {
          "base_uri": "https://localhost:8080/",
          "height": 433
        },
        "outputId": "a574d2e1-d01e-450c-a95a-1f8a6fd24479"
      },
      "source": [
        "forecast[['ds','yhat','yhat_lower','yhat_upper']]"
      ],
      "execution_count": null,
      "outputs": [
        {
          "output_type": "execute_result",
          "data": {
            "text/html": [
              "<div>\n",
              "<style scoped>\n",
              "    .dataframe tbody tr th:only-of-type {\n",
              "        vertical-align: middle;\n",
              "    }\n",
              "\n",
              "    .dataframe tbody tr th {\n",
              "        vertical-align: top;\n",
              "    }\n",
              "\n",
              "    .dataframe thead th {\n",
              "        text-align: right;\n",
              "    }\n",
              "</style>\n",
              "<table border=\"1\" class=\"dataframe\">\n",
              "  <thead>\n",
              "    <tr style=\"text-align: right;\">\n",
              "      <th></th>\n",
              "      <th>ds</th>\n",
              "      <th>yhat</th>\n",
              "      <th>yhat_lower</th>\n",
              "      <th>yhat_upper</th>\n",
              "    </tr>\n",
              "  </thead>\n",
              "  <tbody>\n",
              "    <tr>\n",
              "      <th>0</th>\n",
              "      <td>2018-04-01</td>\n",
              "      <td>4094.613841</td>\n",
              "      <td>3609.082715</td>\n",
              "      <td>4551.681178</td>\n",
              "    </tr>\n",
              "    <tr>\n",
              "      <th>1</th>\n",
              "      <td>2018-04-02</td>\n",
              "      <td>4260.188898</td>\n",
              "      <td>3847.093582</td>\n",
              "      <td>4723.194228</td>\n",
              "    </tr>\n",
              "    <tr>\n",
              "      <th>2</th>\n",
              "      <td>2018-04-03</td>\n",
              "      <td>4264.479370</td>\n",
              "      <td>3785.920172</td>\n",
              "      <td>4737.682573</td>\n",
              "    </tr>\n",
              "    <tr>\n",
              "      <th>3</th>\n",
              "      <td>2018-04-04</td>\n",
              "      <td>4272.209165</td>\n",
              "      <td>3819.303228</td>\n",
              "      <td>4713.620130</td>\n",
              "    </tr>\n",
              "    <tr>\n",
              "      <th>4</th>\n",
              "      <td>2018-04-05</td>\n",
              "      <td>4235.255720</td>\n",
              "      <td>3783.861945</td>\n",
              "      <td>4672.759540</td>\n",
              "    </tr>\n",
              "    <tr>\n",
              "      <th>...</th>\n",
              "      <td>...</td>\n",
              "      <td>...</td>\n",
              "      <td>...</td>\n",
              "      <td>...</td>\n",
              "    </tr>\n",
              "    <tr>\n",
              "      <th>431</th>\n",
              "      <td>2019-06-06</td>\n",
              "      <td>3876.054894</td>\n",
              "      <td>3397.487109</td>\n",
              "      <td>4376.112521</td>\n",
              "    </tr>\n",
              "    <tr>\n",
              "      <th>432</th>\n",
              "      <td>2019-06-07</td>\n",
              "      <td>3925.178453</td>\n",
              "      <td>3456.864054</td>\n",
              "      <td>4386.574995</td>\n",
              "    </tr>\n",
              "    <tr>\n",
              "      <th>433</th>\n",
              "      <td>2019-06-08</td>\n",
              "      <td>3915.459155</td>\n",
              "      <td>3440.415517</td>\n",
              "      <td>4381.157642</td>\n",
              "    </tr>\n",
              "    <tr>\n",
              "      <th>434</th>\n",
              "      <td>2019-06-09</td>\n",
              "      <td>3741.928356</td>\n",
              "      <td>3237.236286</td>\n",
              "      <td>4191.258760</td>\n",
              "    </tr>\n",
              "    <tr>\n",
              "      <th>435</th>\n",
              "      <td>2019-06-10</td>\n",
              "      <td>3893.168929</td>\n",
              "      <td>3444.435922</td>\n",
              "      <td>4367.086203</td>\n",
              "    </tr>\n",
              "  </tbody>\n",
              "</table>\n",
              "<p>436 rows × 4 columns</p>\n",
              "</div>"
            ],
            "text/plain": [
              "            ds         yhat   yhat_lower   yhat_upper\n",
              "0   2018-04-01  4094.613841  3609.082715  4551.681178\n",
              "1   2018-04-02  4260.188898  3847.093582  4723.194228\n",
              "2   2018-04-03  4264.479370  3785.920172  4737.682573\n",
              "3   2018-04-04  4272.209165  3819.303228  4713.620130\n",
              "4   2018-04-05  4235.255720  3783.861945  4672.759540\n",
              "..         ...          ...          ...          ...\n",
              "431 2019-06-06  3876.054894  3397.487109  4376.112521\n",
              "432 2019-06-07  3925.178453  3456.864054  4386.574995\n",
              "433 2019-06-08  3915.459155  3440.415517  4381.157642\n",
              "434 2019-06-09  3741.928356  3237.236286  4191.258760\n",
              "435 2019-06-10  3893.168929  3444.435922  4367.086203\n",
              "\n",
              "[436 rows x 4 columns]"
            ]
          },
          "metadata": {
            "tags": []
          },
          "execution_count": 46
        }
      ]
    },
    {
      "cell_type": "code",
      "metadata": {
        "id": "tWflPCl_k15s",
        "colab_type": "code",
        "colab": {}
      },
      "source": [
        "pred = forecast['yhat'][406:]"
      ],
      "execution_count": null,
      "outputs": []
    },
    {
      "cell_type": "code",
      "metadata": {
        "id": "BXexjrIPzQjX",
        "colab_type": "code",
        "colab": {
          "base_uri": "https://localhost:8080/",
          "height": 54
        },
        "outputId": "1e03d253-e6ee-4aa2-dd60-a7644e301aa3"
      },
      "source": [
        "np.sqrt(mean_squared_error(xTest['y'],pred))"
      ],
      "execution_count": null,
      "outputs": [
        {
          "output_type": "execute_result",
          "data": {
            "text/plain": [
              "258.5959140021633"
            ]
          },
          "metadata": {
            "tags": []
          },
          "execution_count": 48
        }
      ]
    },
    {
      "cell_type": "code",
      "metadata": {
        "id": "P11U-gc-zUiV",
        "colab_type": "code",
        "colab": {}
      },
      "source": [
        ""
      ],
      "execution_count": null,
      "outputs": []
    }
  ]
}