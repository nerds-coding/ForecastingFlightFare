{
  "nbformat": 4,
  "nbformat_minor": 0,
  "metadata": {
    "colab": {
      "name": "FlightFareFinalPre_Processing.ipynb",
      "provenance": []
    },
    "kernelspec": {
      "name": "python3",
      "display_name": "Python 3"
    }
  },
  "cells": [
    {
      "cell_type": "code",
      "metadata": {
        "id": "0EKFUAybmeWz",
        "colab_type": "code",
        "colab": {}
      },
      "source": [
        "import pandas as pd\n",
        "import numpy as np\n",
        "import matplotlib.pyplot as plt\n",
        "import seaborn as sns\n",
        "import datetime as dt\n",
        " \n",
        "from scipy import stats\n",
        " \n",
        "import warnings\n",
        "warnings.filterwarnings('ignore')\n",
        " \n",
        "%matplotlib inline"
      ],
      "execution_count": null,
      "outputs": []
    },
    {
      "cell_type": "code",
      "metadata": {
        "id": "rTQZZWRWF8Sv",
        "colab_type": "code",
        "colab": {}
      },
      "source": [
        "data = pd.read_csv('/content/drive/My Drive/ColabDataset/Flight Fare/Concatenate_B2C_B2E.csv')  \n"
      ],
      "execution_count": null,
      "outputs": []
    },
    {
      "cell_type": "code",
      "metadata": {
        "id": "dB2frTfiLdU5",
        "colab_type": "code",
        "colab": {
          "base_uri": "https://localhost:8080/",
          "height": 54
        },
        "outputId": "7a38934e-b125-4584-d9f4-bf2401b5ed11"
      },
      "source": [
        "from google.colab import drive\n",
        "drive.mount('/content/drive')"
      ],
      "execution_count": null,
      "outputs": [
        {
          "output_type": "stream",
          "text": [
            "Drive already mounted at /content/drive; to attempt to forcibly remount, call drive.mount(\"/content/drive\", force_remount=True).\n"
          ],
          "name": "stdout"
        }
      ]
    },
    {
      "cell_type": "code",
      "metadata": {
        "id": "dLWr2L7bToZz",
        "colab_type": "code",
        "colab": {}
      },
      "source": [
        "size =(19,9)\n",
        "sns.set_style('darkgrid')"
      ],
      "execution_count": null,
      "outputs": []
    },
    {
      "cell_type": "code",
      "metadata": {
        "id": "JpVACnWJRV5H",
        "colab_type": "code",
        "colab": {
          "base_uri": "https://localhost:8080/",
          "height": 54
        },
        "outputId": "e77bc22b-083c-4e9d-e7ec-402461c4c1c6"
      },
      "source": [
        "len(data)"
      ],
      "execution_count": null,
      "outputs": [
        {
          "output_type": "execute_result",
          "data": {
            "text/plain": [
              "278466"
            ]
          },
          "metadata": {
            "tags": []
          },
          "execution_count": 60
        }
      ]
    },
    {
      "cell_type": "code",
      "metadata": {
        "id": "5WqQ4CqOGN_S",
        "colab_type": "code",
        "colab": {
          "base_uri": "https://localhost:8080/",
          "height": 221
        },
        "outputId": "65ac1d6f-7268-496e-ab5e-7e2522ff51de"
      },
      "source": [
        "data.head()"
      ],
      "execution_count": null,
      "outputs": [
        {
          "output_type": "execute_result",
          "data": {
            "text/html": [
              "<div>\n",
              "<style scoped>\n",
              "    .dataframe tbody tr th:only-of-type {\n",
              "        vertical-align: middle;\n",
              "    }\n",
              "\n",
              "    .dataframe tbody tr th {\n",
              "        vertical-align: top;\n",
              "    }\n",
              "\n",
              "    .dataframe thead th {\n",
              "        text-align: right;\n",
              "    }\n",
              "</style>\n",
              "<table border=\"1\" class=\"dataframe\">\n",
              "  <thead>\n",
              "    <tr style=\"text-align: right;\">\n",
              "      <th></th>\n",
              "      <th>InvoiceDate</th>\n",
              "      <th>NetFare</th>\n",
              "      <th>ProductType</th>\n",
              "      <th>ItineraryType</th>\n",
              "    </tr>\n",
              "  </thead>\n",
              "  <tbody>\n",
              "    <tr>\n",
              "      <th>0</th>\n",
              "      <td>01-12-2018 11:43</td>\n",
              "      <td>2160</td>\n",
              "      <td>Other Product</td>\n",
              "      <td>Domestic</td>\n",
              "    </tr>\n",
              "    <tr>\n",
              "      <th>1</th>\n",
              "      <td>01-12-2018 11:43</td>\n",
              "      <td>0.49</td>\n",
              "      <td>Other Product</td>\n",
              "      <td>Domestic</td>\n",
              "    </tr>\n",
              "    <tr>\n",
              "      <th>2</th>\n",
              "      <td>01-12-2018 13:01</td>\n",
              "      <td>6550</td>\n",
              "      <td>Air</td>\n",
              "      <td>Domestic</td>\n",
              "    </tr>\n",
              "    <tr>\n",
              "      <th>3</th>\n",
              "      <td>01-12-2018 13:10</td>\n",
              "      <td>6550</td>\n",
              "      <td>Air</td>\n",
              "      <td>Domestic</td>\n",
              "    </tr>\n",
              "    <tr>\n",
              "      <th>4</th>\n",
              "      <td>30-11-2018 14:30</td>\n",
              "      <td>5497</td>\n",
              "      <td>Air</td>\n",
              "      <td>Domestic</td>\n",
              "    </tr>\n",
              "  </tbody>\n",
              "</table>\n",
              "</div>"
            ],
            "text/plain": [
              "        InvoiceDate NetFare    ProductType ItineraryType\n",
              "0  01-12-2018 11:43    2160  Other Product      Domestic\n",
              "1  01-12-2018 11:43    0.49  Other Product      Domestic\n",
              "2  01-12-2018 13:01    6550            Air      Domestic\n",
              "3  01-12-2018 13:10    6550            Air      Domestic\n",
              "4  30-11-2018 14:30    5497            Air      Domestic"
            ]
          },
          "metadata": {
            "tags": []
          },
          "execution_count": 61
        }
      ]
    },
    {
      "cell_type": "code",
      "metadata": {
        "id": "8o3Qf0tFHHpn",
        "colab_type": "code",
        "colab": {}
      },
      "source": [
        "data['InvoiceDate'] = pd.to_datetime(data['InvoiceDate'],format=\"%d-%m-%Y %H:%M\")"
      ],
      "execution_count": null,
      "outputs": []
    },
    {
      "cell_type": "code",
      "metadata": {
        "id": "s76Do1fQITAP",
        "colab_type": "code",
        "colab": {}
      },
      "source": [
        "data.sort_values(by='InvoiceDate',inplace=True)"
      ],
      "execution_count": null,
      "outputs": []
    },
    {
      "cell_type": "code",
      "metadata": {
        "id": "LfCcwQnCIdHR",
        "colab_type": "code",
        "colab": {
          "base_uri": "https://localhost:8080/",
          "height": 433
        },
        "outputId": "5aa52aba-6def-453e-9d33-a9f82e79d7c8"
      },
      "source": [
        "data"
      ],
      "execution_count": null,
      "outputs": [
        {
          "output_type": "execute_result",
          "data": {
            "text/html": [
              "<div>\n",
              "<style scoped>\n",
              "    .dataframe tbody tr th:only-of-type {\n",
              "        vertical-align: middle;\n",
              "    }\n",
              "\n",
              "    .dataframe tbody tr th {\n",
              "        vertical-align: top;\n",
              "    }\n",
              "\n",
              "    .dataframe thead th {\n",
              "        text-align: right;\n",
              "    }\n",
              "</style>\n",
              "<table border=\"1\" class=\"dataframe\">\n",
              "  <thead>\n",
              "    <tr style=\"text-align: right;\">\n",
              "      <th></th>\n",
              "      <th>InvoiceDate</th>\n",
              "      <th>NetFare</th>\n",
              "      <th>ProductType</th>\n",
              "      <th>ItineraryType</th>\n",
              "    </tr>\n",
              "  </thead>\n",
              "  <tbody>\n",
              "    <tr>\n",
              "      <th>186886</th>\n",
              "      <td>2018-04-01 08:26:00</td>\n",
              "      <td>8222</td>\n",
              "      <td>Air</td>\n",
              "      <td>Domestic</td>\n",
              "    </tr>\n",
              "    <tr>\n",
              "      <th>186887</th>\n",
              "      <td>2018-04-01 09:17:00</td>\n",
              "      <td>3418</td>\n",
              "      <td>Air</td>\n",
              "      <td>Domestic</td>\n",
              "    </tr>\n",
              "    <tr>\n",
              "      <th>186888</th>\n",
              "      <td>2018-04-01 09:54:00</td>\n",
              "      <td>6708</td>\n",
              "      <td>Air</td>\n",
              "      <td>Domestic</td>\n",
              "    </tr>\n",
              "    <tr>\n",
              "      <th>186889</th>\n",
              "      <td>2018-04-01 12:00:00</td>\n",
              "      <td>3625</td>\n",
              "      <td>Air</td>\n",
              "      <td>Domestic</td>\n",
              "    </tr>\n",
              "    <tr>\n",
              "      <th>186890</th>\n",
              "      <td>2018-04-01 12:36:00</td>\n",
              "      <td>3099</td>\n",
              "      <td>Air</td>\n",
              "      <td>Domestic</td>\n",
              "    </tr>\n",
              "    <tr>\n",
              "      <th>...</th>\n",
              "      <td>...</td>\n",
              "      <td>...</td>\n",
              "      <td>...</td>\n",
              "      <td>...</td>\n",
              "    </tr>\n",
              "    <tr>\n",
              "      <th>186883</th>\n",
              "      <td>2019-06-10 23:51:00</td>\n",
              "      <td>NaN</td>\n",
              "      <td>payment</td>\n",
              "      <td>Domestic</td>\n",
              "    </tr>\n",
              "    <tr>\n",
              "      <th>186885</th>\n",
              "      <td>2019-06-10 23:52:00</td>\n",
              "      <td>5004</td>\n",
              "      <td>Air</td>\n",
              "      <td>Domestic</td>\n",
              "    </tr>\n",
              "    <tr>\n",
              "      <th>186884</th>\n",
              "      <td>2019-06-10 23:52:00</td>\n",
              "      <td>0</td>\n",
              "      <td>Charge</td>\n",
              "      <td>NaN</td>\n",
              "    </tr>\n",
              "    <tr>\n",
              "      <th>180141</th>\n",
              "      <td>NaT</td>\n",
              "      <td>NaN</td>\n",
              "      <td>NaN</td>\n",
              "      <td>NaN</td>\n",
              "    </tr>\n",
              "    <tr>\n",
              "      <th>180143</th>\n",
              "      <td>NaT</td>\n",
              "      <td>06-06-2019 17:08</td>\n",
              "      <td>NaN</td>\n",
              "      <td>NaN</td>\n",
              "    </tr>\n",
              "  </tbody>\n",
              "</table>\n",
              "<p>278466 rows × 4 columns</p>\n",
              "</div>"
            ],
            "text/plain": [
              "               InvoiceDate           NetFare ProductType ItineraryType\n",
              "186886 2018-04-01 08:26:00              8222         Air      Domestic\n",
              "186887 2018-04-01 09:17:00              3418         Air      Domestic\n",
              "186888 2018-04-01 09:54:00              6708         Air      Domestic\n",
              "186889 2018-04-01 12:00:00              3625         Air      Domestic\n",
              "186890 2018-04-01 12:36:00              3099         Air      Domestic\n",
              "...                    ...               ...         ...           ...\n",
              "186883 2019-06-10 23:51:00               NaN     payment      Domestic\n",
              "186885 2019-06-10 23:52:00              5004         Air      Domestic\n",
              "186884 2019-06-10 23:52:00                 0      Charge           NaN\n",
              "180141                 NaT               NaN         NaN           NaN\n",
              "180143                 NaT  06-06-2019 17:08         NaN           NaN\n",
              "\n",
              "[278466 rows x 4 columns]"
            ]
          },
          "metadata": {
            "tags": []
          },
          "execution_count": 64
        }
      ]
    },
    {
      "cell_type": "code",
      "metadata": {
        "id": "pczI1AfFKDfL",
        "colab_type": "code",
        "colab": {}
      },
      "source": [
        "data = data[data['ProductType']=='Air']"
      ],
      "execution_count": null,
      "outputs": []
    },
    {
      "cell_type": "code",
      "metadata": {
        "id": "68FoO9AlJqWS",
        "colab_type": "code",
        "colab": {}
      },
      "source": [
        "data['InvoiceTime'] = data['InvoiceDate'].dt.time\n",
        "data['InvoiceDate'] = data['InvoiceDate'].dt.date"
      ],
      "execution_count": null,
      "outputs": []
    },
    {
      "cell_type": "markdown",
      "metadata": {
        "id": "xliA_kAssVuQ",
        "colab_type": "text"
      },
      "source": [
        "# New Section"
      ]
    },
    {
      "cell_type": "code",
      "metadata": {
        "id": "2vd7MN5AKaNH",
        "colab_type": "code",
        "colab": {}
      },
      "source": [
        "data['InvoiceDate'] = pd.to_datetime(data['InvoiceDate'])\n",
        "data['InvoiceTime'] = pd.to_timedelta(data['InvoiceTime'].astype(str))"
      ],
      "execution_count": null,
      "outputs": []
    },
    {
      "cell_type": "code",
      "metadata": {
        "id": "l_HYQmaRKIBu",
        "colab_type": "code",
        "colab": {
          "base_uri": "https://localhost:8080/",
          "height": 54
        },
        "outputId": "de97ab78-55b0-4cb6-cdd6-b050b8476dd3"
      },
      "source": [
        "len(data)"
      ],
      "execution_count": null,
      "outputs": [
        {
          "output_type": "execute_result",
          "data": {
            "text/plain": [
              "151995"
            ]
          },
          "metadata": {
            "tags": []
          },
          "execution_count": 68
        }
      ]
    },
    {
      "cell_type": "code",
      "metadata": {
        "id": "VDcurhvKKNS_",
        "colab_type": "code",
        "colab": {
          "base_uri": "https://localhost:8080/",
          "height": 236
        },
        "outputId": "97bc9e35-dadc-40c6-c149-9ba7f793ac92"
      },
      "source": [
        "data.info()"
      ],
      "execution_count": null,
      "outputs": [
        {
          "output_type": "stream",
          "text": [
            "<class 'pandas.core.frame.DataFrame'>\n",
            "Int64Index: 151995 entries, 186886 to 186885\n",
            "Data columns (total 5 columns):\n",
            " #   Column         Non-Null Count   Dtype          \n",
            "---  ------         --------------   -----          \n",
            " 0   InvoiceDate    151995 non-null  datetime64[ns] \n",
            " 1   NetFare        151995 non-null  object         \n",
            " 2   ProductType    151995 non-null  object         \n",
            " 3   ItineraryType  151995 non-null  object         \n",
            " 4   InvoiceTime    151995 non-null  timedelta64[ns]\n",
            "dtypes: datetime64[ns](1), object(3), timedelta64[ns](1)\n",
            "memory usage: 7.0+ MB\n"
          ],
          "name": "stdout"
        }
      ]
    },
    {
      "cell_type": "code",
      "metadata": {
        "id": "_m70asCnKQ1v",
        "colab_type": "code",
        "colab": {
          "base_uri": "https://localhost:8080/",
          "height": 191
        },
        "outputId": "14077331-be71-469c-fae3-cf686adff17a"
      },
      "source": [
        "data.describe(include='object')"
      ],
      "execution_count": null,
      "outputs": [
        {
          "output_type": "execute_result",
          "data": {
            "text/html": [
              "<div>\n",
              "<style scoped>\n",
              "    .dataframe tbody tr th:only-of-type {\n",
              "        vertical-align: middle;\n",
              "    }\n",
              "\n",
              "    .dataframe tbody tr th {\n",
              "        vertical-align: top;\n",
              "    }\n",
              "\n",
              "    .dataframe thead th {\n",
              "        text-align: right;\n",
              "    }\n",
              "</style>\n",
              "<table border=\"1\" class=\"dataframe\">\n",
              "  <thead>\n",
              "    <tr style=\"text-align: right;\">\n",
              "      <th></th>\n",
              "      <th>NetFare</th>\n",
              "      <th>ProductType</th>\n",
              "      <th>ItineraryType</th>\n",
              "    </tr>\n",
              "  </thead>\n",
              "  <tbody>\n",
              "    <tr>\n",
              "      <th>count</th>\n",
              "      <td>151995.0</td>\n",
              "      <td>151995</td>\n",
              "      <td>151995</td>\n",
              "    </tr>\n",
              "    <tr>\n",
              "      <th>unique</th>\n",
              "      <td>27145.0</td>\n",
              "      <td>1</td>\n",
              "      <td>2</td>\n",
              "    </tr>\n",
              "    <tr>\n",
              "      <th>top</th>\n",
              "      <td>0.0</td>\n",
              "      <td>Air</td>\n",
              "      <td>Domestic</td>\n",
              "    </tr>\n",
              "    <tr>\n",
              "      <th>freq</th>\n",
              "      <td>589.0</td>\n",
              "      <td>151995</td>\n",
              "      <td>141234</td>\n",
              "    </tr>\n",
              "  </tbody>\n",
              "</table>\n",
              "</div>"
            ],
            "text/plain": [
              "         NetFare ProductType ItineraryType\n",
              "count   151995.0      151995        151995\n",
              "unique   27145.0           1             2\n",
              "top          0.0         Air      Domestic\n",
              "freq       589.0      151995        141234"
            ]
          },
          "metadata": {
            "tags": []
          },
          "execution_count": 70
        }
      ]
    },
    {
      "cell_type": "code",
      "metadata": {
        "id": "NNOIt_1yKLBf",
        "colab_type": "code",
        "colab": {
          "base_uri": "https://localhost:8080/",
          "height": 221
        },
        "outputId": "7b88fa23-0b7d-45ac-da3f-a8e8ceb5e0a4"
      },
      "source": [
        "data.head()"
      ],
      "execution_count": null,
      "outputs": [
        {
          "output_type": "execute_result",
          "data": {
            "text/html": [
              "<div>\n",
              "<style scoped>\n",
              "    .dataframe tbody tr th:only-of-type {\n",
              "        vertical-align: middle;\n",
              "    }\n",
              "\n",
              "    .dataframe tbody tr th {\n",
              "        vertical-align: top;\n",
              "    }\n",
              "\n",
              "    .dataframe thead th {\n",
              "        text-align: right;\n",
              "    }\n",
              "</style>\n",
              "<table border=\"1\" class=\"dataframe\">\n",
              "  <thead>\n",
              "    <tr style=\"text-align: right;\">\n",
              "      <th></th>\n",
              "      <th>InvoiceDate</th>\n",
              "      <th>NetFare</th>\n",
              "      <th>ProductType</th>\n",
              "      <th>ItineraryType</th>\n",
              "      <th>InvoiceTime</th>\n",
              "    </tr>\n",
              "  </thead>\n",
              "  <tbody>\n",
              "    <tr>\n",
              "      <th>186886</th>\n",
              "      <td>2018-04-01</td>\n",
              "      <td>8222</td>\n",
              "      <td>Air</td>\n",
              "      <td>Domestic</td>\n",
              "      <td>08:26:00</td>\n",
              "    </tr>\n",
              "    <tr>\n",
              "      <th>186887</th>\n",
              "      <td>2018-04-01</td>\n",
              "      <td>3418</td>\n",
              "      <td>Air</td>\n",
              "      <td>Domestic</td>\n",
              "      <td>09:17:00</td>\n",
              "    </tr>\n",
              "    <tr>\n",
              "      <th>186888</th>\n",
              "      <td>2018-04-01</td>\n",
              "      <td>6708</td>\n",
              "      <td>Air</td>\n",
              "      <td>Domestic</td>\n",
              "      <td>09:54:00</td>\n",
              "    </tr>\n",
              "    <tr>\n",
              "      <th>186889</th>\n",
              "      <td>2018-04-01</td>\n",
              "      <td>3625</td>\n",
              "      <td>Air</td>\n",
              "      <td>Domestic</td>\n",
              "      <td>12:00:00</td>\n",
              "    </tr>\n",
              "    <tr>\n",
              "      <th>186890</th>\n",
              "      <td>2018-04-01</td>\n",
              "      <td>3099</td>\n",
              "      <td>Air</td>\n",
              "      <td>Domestic</td>\n",
              "      <td>12:36:00</td>\n",
              "    </tr>\n",
              "  </tbody>\n",
              "</table>\n",
              "</div>"
            ],
            "text/plain": [
              "       InvoiceDate NetFare ProductType ItineraryType InvoiceTime\n",
              "186886  2018-04-01    8222         Air      Domestic    08:26:00\n",
              "186887  2018-04-01    3418         Air      Domestic    09:17:00\n",
              "186888  2018-04-01    6708         Air      Domestic    09:54:00\n",
              "186889  2018-04-01    3625         Air      Domestic    12:00:00\n",
              "186890  2018-04-01    3099         Air      Domestic    12:36:00"
            ]
          },
          "metadata": {
            "tags": []
          },
          "execution_count": 71
        }
      ]
    },
    {
      "cell_type": "code",
      "metadata": {
        "id": "ieJeqjLlR0J8",
        "colab_type": "code",
        "colab": {}
      },
      "source": [
        "data['NetFare'] = data['NetFare'].astype(float)"
      ],
      "execution_count": null,
      "outputs": []
    },
    {
      "cell_type": "code",
      "metadata": {
        "id": "0NBRPniKJKpX",
        "colab_type": "code",
        "colab": {
          "base_uri": "https://localhost:8080/",
          "height": 559
        },
        "outputId": "c307fa2a-9ee0-46c7-8393-fbc8b6fb7bf5"
      },
      "source": [
        "data.plot(x='InvoiceDate',y='NetFare',figsize=(19,9))"
      ],
      "execution_count": null,
      "outputs": [
        {
          "output_type": "execute_result",
          "data": {
            "text/plain": [
              "<matplotlib.axes._subplots.AxesSubplot at 0x7f7727344ef0>"
            ]
          },
          "metadata": {
            "tags": []
          },
          "execution_count": 73
        },
        {
          "output_type": "display_data",
          "data": {
            "image/png": "[encoded data removed]",
            "text/plain": [
              "<Figure size 1368x648 with 1 Axes>"
            ]
          },
          "metadata": {
            "tags": []
          }
        }
      ]
    },
    {
      "cell_type": "markdown",
      "metadata": {
        "id": "-4VBFJ5-SOfd",
        "colab_type": "text"
      },
      "source": [
        "As from our Previous EDA Notebook and Domain knowledge we will drop the Negative Value from NetFare"
      ]
    },
    {
      "cell_type": "code",
      "metadata": {
        "id": "cEdysNqMJ6T1",
        "colab_type": "code",
        "colab": {}
      },
      "source": [
        "data = data[data['NetFare']>0]"
      ],
      "execution_count": null,
      "outputs": []
    },
    {
      "cell_type": "code",
      "metadata": {
        "id": "tAbRom_ZSk4-",
        "colab_type": "code",
        "colab": {
          "base_uri": "https://localhost:8080/",
          "height": 433
        },
        "outputId": "b472ea7d-7156-4533-c242-5f0f09af1c8f"
      },
      "source": [
        "data"
      ],
      "execution_count": null,
      "outputs": [
        {
          "output_type": "execute_result",
          "data": {
            "text/html": [
              "<div>\n",
              "<style scoped>\n",
              "    .dataframe tbody tr th:only-of-type {\n",
              "        vertical-align: middle;\n",
              "    }\n",
              "\n",
              "    .dataframe tbody tr th {\n",
              "        vertical-align: top;\n",
              "    }\n",
              "\n",
              "    .dataframe thead th {\n",
              "        text-align: right;\n",
              "    }\n",
              "</style>\n",
              "<table border=\"1\" class=\"dataframe\">\n",
              "  <thead>\n",
              "    <tr style=\"text-align: right;\">\n",
              "      <th></th>\n",
              "      <th>InvoiceDate</th>\n",
              "      <th>NetFare</th>\n",
              "      <th>ProductType</th>\n",
              "      <th>ItineraryType</th>\n",
              "      <th>InvoiceTime</th>\n",
              "    </tr>\n",
              "  </thead>\n",
              "  <tbody>\n",
              "    <tr>\n",
              "      <th>186886</th>\n",
              "      <td>2018-04-01</td>\n",
              "      <td>8222.0</td>\n",
              "      <td>Air</td>\n",
              "      <td>Domestic</td>\n",
              "      <td>08:26:00</td>\n",
              "    </tr>\n",
              "    <tr>\n",
              "      <th>186887</th>\n",
              "      <td>2018-04-01</td>\n",
              "      <td>3418.0</td>\n",
              "      <td>Air</td>\n",
              "      <td>Domestic</td>\n",
              "      <td>09:17:00</td>\n",
              "    </tr>\n",
              "    <tr>\n",
              "      <th>186888</th>\n",
              "      <td>2018-04-01</td>\n",
              "      <td>6708.0</td>\n",
              "      <td>Air</td>\n",
              "      <td>Domestic</td>\n",
              "      <td>09:54:00</td>\n",
              "    </tr>\n",
              "    <tr>\n",
              "      <th>186889</th>\n",
              "      <td>2018-04-01</td>\n",
              "      <td>3625.0</td>\n",
              "      <td>Air</td>\n",
              "      <td>Domestic</td>\n",
              "      <td>12:00:00</td>\n",
              "    </tr>\n",
              "    <tr>\n",
              "      <th>186890</th>\n",
              "      <td>2018-04-01</td>\n",
              "      <td>3099.0</td>\n",
              "      <td>Air</td>\n",
              "      <td>Domestic</td>\n",
              "      <td>12:36:00</td>\n",
              "    </tr>\n",
              "    <tr>\n",
              "      <th>...</th>\n",
              "      <td>...</td>\n",
              "      <td>...</td>\n",
              "      <td>...</td>\n",
              "      <td>...</td>\n",
              "      <td>...</td>\n",
              "    </tr>\n",
              "    <tr>\n",
              "      <th>186872</th>\n",
              "      <td>2019-06-10</td>\n",
              "      <td>3673.0</td>\n",
              "      <td>Air</td>\n",
              "      <td>Domestic</td>\n",
              "      <td>23:17:00</td>\n",
              "    </tr>\n",
              "    <tr>\n",
              "      <th>186874</th>\n",
              "      <td>2019-06-10</td>\n",
              "      <td>5229.0</td>\n",
              "      <td>Air</td>\n",
              "      <td>Domestic</td>\n",
              "      <td>23:29:00</td>\n",
              "    </tr>\n",
              "    <tr>\n",
              "      <th>186877</th>\n",
              "      <td>2019-06-10</td>\n",
              "      <td>3600.0</td>\n",
              "      <td>Air</td>\n",
              "      <td>Domestic</td>\n",
              "      <td>23:31:00</td>\n",
              "    </tr>\n",
              "    <tr>\n",
              "      <th>186880</th>\n",
              "      <td>2019-06-10</td>\n",
              "      <td>2547.0</td>\n",
              "      <td>Air</td>\n",
              "      <td>Domestic</td>\n",
              "      <td>23:37:00</td>\n",
              "    </tr>\n",
              "    <tr>\n",
              "      <th>186885</th>\n",
              "      <td>2019-06-10</td>\n",
              "      <td>5004.0</td>\n",
              "      <td>Air</td>\n",
              "      <td>Domestic</td>\n",
              "      <td>23:52:00</td>\n",
              "    </tr>\n",
              "  </tbody>\n",
              "</table>\n",
              "<p>144262 rows × 5 columns</p>\n",
              "</div>"
            ],
            "text/plain": [
              "       InvoiceDate  NetFare ProductType ItineraryType InvoiceTime\n",
              "186886  2018-04-01   8222.0         Air      Domestic    08:26:00\n",
              "186887  2018-04-01   3418.0         Air      Domestic    09:17:00\n",
              "186888  2018-04-01   6708.0         Air      Domestic    09:54:00\n",
              "186889  2018-04-01   3625.0         Air      Domestic    12:00:00\n",
              "186890  2018-04-01   3099.0         Air      Domestic    12:36:00\n",
              "...            ...      ...         ...           ...         ...\n",
              "186872  2019-06-10   3673.0         Air      Domestic    23:17:00\n",
              "186874  2019-06-10   5229.0         Air      Domestic    23:29:00\n",
              "186877  2019-06-10   3600.0         Air      Domestic    23:31:00\n",
              "186880  2019-06-10   2547.0         Air      Domestic    23:37:00\n",
              "186885  2019-06-10   5004.0         Air      Domestic    23:52:00\n",
              "\n",
              "[144262 rows x 5 columns]"
            ]
          },
          "metadata": {
            "tags": []
          },
          "execution_count": 75
        }
      ]
    },
    {
      "cell_type": "code",
      "metadata": {
        "id": "HUEBX4V8S3rz",
        "colab_type": "code",
        "colab": {
          "base_uri": "https://localhost:8080/",
          "height": 137
        },
        "outputId": "7af239ee-909e-462c-8756-5cfb226b363b"
      },
      "source": [
        "data.isna().sum()"
      ],
      "execution_count": null,
      "outputs": [
        {
          "output_type": "execute_result",
          "data": {
            "text/plain": [
              "InvoiceDate      0\n",
              "NetFare          0\n",
              "ProductType      0\n",
              "ItineraryType    0\n",
              "InvoiceTime      0\n",
              "dtype: int64"
            ]
          },
          "metadata": {
            "tags": []
          },
          "execution_count": 76
        }
      ]
    },
    {
      "cell_type": "code",
      "metadata": {
        "id": "GM3iF67aTicm",
        "colab_type": "code",
        "colab": {
          "base_uri": "https://localhost:8080/",
          "height": 572
        },
        "outputId": "b37eee83-d8cc-4831-8a10-17269ddd594d"
      },
      "source": [
        "plt.figure(figsize=size)\n",
        "\n",
        "sns.boxplot(data['NetFare'])\n",
        "\n",
        "plt.show()"
      ],
      "execution_count": null,
      "outputs": [
        {
          "output_type": "display_data",
          "data": {
            "image/png": "[encoded data removed]",
            "text/plain": [
              "<Figure size 1368x648 with 1 Axes>"
            ]
          },
          "metadata": {
            "tags": []
          }
        }
      ]
    },
    {
      "cell_type": "markdown",
      "metadata": {
        "id": "Zt_0aw5NT14D",
        "colab_type": "text"
      },
      "source": [
        "Now Splitting the dataset into two part \n",
        "\n",
        "\n",
        "\n",
        "1.   Domestic\n",
        "2.   International\n",
        "\n"
      ]
    },
    {
      "cell_type": "code",
      "metadata": {
        "id": "4P7J4TzVT1VY",
        "colab_type": "code",
        "colab": {}
      },
      "source": [
        "domesticData = data[data['ItineraryType']=='Domestic'][['InvoiceDate','NetFare']]\n",
        "interData = data[data['ItineraryType']=='International'][['InvoiceDate','NetFare']]"
      ],
      "execution_count": null,
      "outputs": []
    },
    {
      "cell_type": "code",
      "metadata": {
        "id": "3X9TY7ZkTvW4",
        "colab_type": "code",
        "colab": {
          "base_uri": "https://localhost:8080/",
          "height": 54
        },
        "outputId": "f9e8f675-91e2-4542-c256-ed816ffe884f"
      },
      "source": [
        "len(domesticData)"
      ],
      "execution_count": null,
      "outputs": [
        {
          "output_type": "execute_result",
          "data": {
            "text/plain": [
              "134001"
            ]
          },
          "metadata": {
            "tags": []
          },
          "execution_count": 79
        }
      ]
    },
    {
      "cell_type": "code",
      "metadata": {
        "id": "gD2aLx8TUNSE",
        "colab_type": "code",
        "colab": {
          "base_uri": "https://localhost:8080/",
          "height": 54
        },
        "outputId": "b1065a4e-19c3-492c-a6fa-3623ae2bdfc3"
      },
      "source": [
        "len(interData)"
      ],
      "execution_count": null,
      "outputs": [
        {
          "output_type": "execute_result",
          "data": {
            "text/plain": [
              "10261"
            ]
          },
          "metadata": {
            "tags": []
          },
          "execution_count": 80
        }
      ]
    },
    {
      "cell_type": "code",
      "metadata": {
        "id": "e9APCdpHgGpi",
        "colab_type": "code",
        "colab": {
          "base_uri": "https://localhost:8080/",
          "height": 87
        },
        "outputId": "6cfba13b-a792-426a-aa71-8c8ca84013c5"
      },
      "source": [
        "domesticData.isna().sum()"
      ],
      "execution_count": null,
      "outputs": [
        {
          "output_type": "execute_result",
          "data": {
            "text/plain": [
              "InvoiceDate    0\n",
              "NetFare        0\n",
              "dtype: int64"
            ]
          },
          "metadata": {
            "tags": []
          },
          "execution_count": 81
        }
      ]
    },
    {
      "cell_type": "code",
      "metadata": {
        "id": "vfdDv3SQgMKn",
        "colab_type": "code",
        "colab": {
          "base_uri": "https://localhost:8080/",
          "height": 87
        },
        "outputId": "d891f73d-0a78-439e-a4fd-d0d76095c880"
      },
      "source": [
        "interData.isna().sum()"
      ],
      "execution_count": null,
      "outputs": [
        {
          "output_type": "execute_result",
          "data": {
            "text/plain": [
              "InvoiceDate    0\n",
              "NetFare        0\n",
              "dtype: int64"
            ]
          },
          "metadata": {
            "tags": []
          },
          "execution_count": 82
        }
      ]
    },
    {
      "cell_type": "code",
      "metadata": {
        "id": "JYC3Qj63bXRf",
        "colab_type": "code",
        "colab": {
          "base_uri": "https://localhost:8080/",
          "height": 352
        },
        "outputId": "d783cb18-4bfd-40ab-c0c9-d4fbe78ba37b"
      },
      "source": [
        "print(domesticData.describe())\n",
        "print()\n",
        "print(interData.describe())"
      ],
      "execution_count": null,
      "outputs": [
        {
          "output_type": "stream",
          "text": [
            "             NetFare\n",
            "count  134001.000000\n",
            "mean     5198.692509\n",
            "std      2999.433388\n",
            "min         1.000000\n",
            "25%      3211.000000\n",
            "50%      4640.000000\n",
            "75%      6582.000000\n",
            "max     64131.000000\n",
            "\n",
            "             NetFare\n",
            "count   10261.000000\n",
            "mean    23626.767777\n",
            "std     32628.212892\n",
            "min        19.070000\n",
            "25%      7416.000000\n",
            "50%     15190.000000\n",
            "75%     27665.000000\n",
            "max    497678.000000\n"
          ],
          "name": "stdout"
        }
      ]
    },
    {
      "cell_type": "code",
      "metadata": {
        "id": "8Yr53lRDUPWx",
        "colab_type": "code",
        "colab": {
          "base_uri": "https://localhost:8080/",
          "height": 572
        },
        "outputId": "e715707e-0cd8-4d1c-f85c-10266b2a78e9"
      },
      "source": [
        "plt.figure(figsize=size)\n",
        "\n",
        "sns.boxplot(domesticData['NetFare'])\n",
        "\n",
        "plt.show()"
      ],
      "execution_count": null,
      "outputs": [
        {
          "output_type": "display_data",
          "data": {
            "image/png": "[encoded data removed]",
            "text/plain": [
              "<Figure size 1368x648 with 1 Axes>"
            ]
          },
          "metadata": {
            "tags": []
          }
        }
      ]
    },
    {
      "cell_type": "markdown",
      "metadata": {
        "id": "0N3x4U1qdzQy",
        "colab_type": "text"
      },
      "source": [
        "Now Lets Remove Outliers for Domestic"
      ]
    },
    {
      "cell_type": "code",
      "metadata": {
        "id": "lKtaCgYHUiyg",
        "colab_type": "code",
        "colab": {
          "base_uri": "https://localhost:8080/",
          "height": 71
        },
        "outputId": "a58e8c47-766e-465e-e6d8-880f5948e1c7"
      },
      "source": [
        "z = pd.DataFrame(stats.zscore(domesticData['NetFare']).astype(float),columns=['z'])\n",
        "d = z.describe()\n",
        "d.iloc[6]"
      ],
      "execution_count": null,
      "outputs": [
        {
          "output_type": "execute_result",
          "data": {
            "text/plain": [
              "z    0.461191\n",
              "Name: 75%, dtype: float64"
            ]
          },
          "metadata": {
            "tags": []
          },
          "execution_count": 85
        }
      ]
    },
    {
      "cell_type": "markdown",
      "metadata": {
        "id": "Tu3wbc0XXgUf",
        "colab_type": "text"
      },
      "source": [
        "We can see that 75% of data under 0.0452 \n",
        "\n",
        "so we  will remove all tha above that threshold"
      ]
    },
    {
      "cell_type": "code",
      "metadata": {
        "id": "KaXu_s1YXfyX",
        "colab_type": "code",
        "colab": {}
      },
      "source": [
        "domesticData['zScore'] = z['z'].values\n",
        "domesticData = domesticData[domesticData['zScore']<=0.461191]"
      ],
      "execution_count": null,
      "outputs": []
    },
    {
      "cell_type": "code",
      "metadata": {
        "id": "FOkquN8nbLWz",
        "colab_type": "code",
        "colab": {
          "base_uri": "https://localhost:8080/",
          "height": 572
        },
        "outputId": "808c6c57-eca4-41c2-e211-019e48777a1e"
      },
      "source": [
        "plt.figure(figsize=size)\n",
        "\n",
        "sns.boxplot(domesticData['NetFare'])\n",
        "\n",
        "plt.show()"
      ],
      "execution_count": null,
      "outputs": [
        {
          "output_type": "display_data",
          "data": {
            "image/png": "[encoded data removed]",
            "text/plain": [
              "<Figure size 1368x648 with 1 Axes>"
            ]
          },
          "metadata": {
            "tags": []
          }
        }
      ]
    },
    {
      "cell_type": "code",
      "metadata": {
        "id": "lTtK2NAAgpFm",
        "colab_type": "code",
        "colab": {
          "base_uri": "https://localhost:8080/",
          "height": 104
        },
        "outputId": "f8bcfe0d-052b-4f0f-8086-a7060da64444"
      },
      "source": [
        "domesticData.isna().sum()"
      ],
      "execution_count": null,
      "outputs": [
        {
          "output_type": "execute_result",
          "data": {
            "text/plain": [
              "InvoiceDate    0\n",
              "NetFare        0\n",
              "zScore         0\n",
              "dtype: int64"
            ]
          },
          "metadata": {
            "tags": []
          },
          "execution_count": 88
        }
      ]
    },
    {
      "cell_type": "markdown",
      "metadata": {
        "id": "4C1isxDRdqEI",
        "colab_type": "text"
      },
      "source": [
        "Now Removing Outliers for Inter-National "
      ]
    },
    {
      "cell_type": "code",
      "metadata": {
        "id": "7ND4Wjkubis2",
        "colab_type": "code",
        "colab": {
          "base_uri": "https://localhost:8080/",
          "height": 572
        },
        "outputId": "a68d52f6-0e76-4876-c772-5b95d432da65"
      },
      "source": [
        "plt.figure(figsize=size)\n",
        "\n",
        "sns.boxplot(interData['NetFare'])\n",
        "\n",
        "plt.show()"
      ],
      "execution_count": null,
      "outputs": [
        {
          "output_type": "display_data",
          "data": {
            "image/png": "[encoded data removed]",
            "text/plain": [
              "<Figure size 1368x648 with 1 Axes>"
            ]
          },
          "metadata": {
            "tags": []
          }
        }
      ]
    },
    {
      "cell_type": "code",
      "metadata": {
        "id": "I9LM-X8fcuRU",
        "colab_type": "code",
        "colab": {
          "base_uri": "https://localhost:8080/",
          "height": 71
        },
        "outputId": "46c3e6dd-6344-44db-964f-d25a6265c38f"
      },
      "source": [
        "z = pd.DataFrame(stats.zscore(interData['NetFare']).astype(float),columns=['z'])\n",
        "d = z.describe()\n",
        "d.iloc[6]"
      ],
      "execution_count": null,
      "outputs": [
        {
          "output_type": "execute_result",
          "data": {
            "text/plain": [
              "z    0.123771\n",
              "Name: 75%, dtype: float64"
            ]
          },
          "metadata": {
            "tags": []
          },
          "execution_count": 90
        }
      ]
    },
    {
      "cell_type": "code",
      "metadata": {
        "id": "748Xyyupc1AJ",
        "colab_type": "code",
        "colab": {
          "base_uri": "https://localhost:8080/",
          "height": 433
        },
        "outputId": "9b4213d1-f5b7-4097-faa1-5286c1fbd7ed"
      },
      "source": [
        "interData['zScore'] = z['z'].values\n",
        "interData = interData[interData['zScore']<=0.123771]\n",
        "interData"
      ],
      "execution_count": null,
      "outputs": [
        {
          "output_type": "execute_result",
          "data": {
            "text/html": [
              "<div>\n",
              "<style scoped>\n",
              "    .dataframe tbody tr th:only-of-type {\n",
              "        vertical-align: middle;\n",
              "    }\n",
              "\n",
              "    .dataframe tbody tr th {\n",
              "        vertical-align: top;\n",
              "    }\n",
              "\n",
              "    .dataframe thead th {\n",
              "        text-align: right;\n",
              "    }\n",
              "</style>\n",
              "<table border=\"1\" class=\"dataframe\">\n",
              "  <thead>\n",
              "    <tr style=\"text-align: right;\">\n",
              "      <th></th>\n",
              "      <th>InvoiceDate</th>\n",
              "      <th>NetFare</th>\n",
              "      <th>zScore</th>\n",
              "    </tr>\n",
              "  </thead>\n",
              "  <tbody>\n",
              "    <tr>\n",
              "      <th>186902</th>\n",
              "      <td>2018-04-01</td>\n",
              "      <td>20918.0000</td>\n",
              "      <td>-0.083023</td>\n",
              "    </tr>\n",
              "    <tr>\n",
              "      <th>186903</th>\n",
              "      <td>2018-04-01</td>\n",
              "      <td>16676.0000</td>\n",
              "      <td>-0.213040</td>\n",
              "    </tr>\n",
              "    <tr>\n",
              "      <th>186904</th>\n",
              "      <td>2018-04-01</td>\n",
              "      <td>16676.0000</td>\n",
              "      <td>-0.213040</td>\n",
              "    </tr>\n",
              "    <tr>\n",
              "      <th>187224</th>\n",
              "      <td>2018-04-05</td>\n",
              "      <td>22445.0000</td>\n",
              "      <td>-0.036221</td>\n",
              "    </tr>\n",
              "    <tr>\n",
              "      <th>187331</th>\n",
              "      <td>2018-04-05</td>\n",
              "      <td>15193.0000</td>\n",
              "      <td>-0.258493</td>\n",
              "    </tr>\n",
              "    <tr>\n",
              "      <th>...</th>\n",
              "      <td>...</td>\n",
              "      <td>...</td>\n",
              "      <td>...</td>\n",
              "    </tr>\n",
              "    <tr>\n",
              "      <th>186716</th>\n",
              "      <td>2019-06-10</td>\n",
              "      <td>2499.0000</td>\n",
              "      <td>-0.647562</td>\n",
              "    </tr>\n",
              "    <tr>\n",
              "      <th>186768</th>\n",
              "      <td>2019-06-10</td>\n",
              "      <td>3816.1854</td>\n",
              "      <td>-0.607191</td>\n",
              "    </tr>\n",
              "    <tr>\n",
              "      <th>186769</th>\n",
              "      <td>2019-06-10</td>\n",
              "      <td>3816.1854</td>\n",
              "      <td>-0.607191</td>\n",
              "    </tr>\n",
              "    <tr>\n",
              "      <th>186770</th>\n",
              "      <td>2019-06-10</td>\n",
              "      <td>3816.1854</td>\n",
              "      <td>-0.607191</td>\n",
              "    </tr>\n",
              "    <tr>\n",
              "      <th>186771</th>\n",
              "      <td>2019-06-10</td>\n",
              "      <td>3816.1854</td>\n",
              "      <td>-0.607191</td>\n",
              "    </tr>\n",
              "  </tbody>\n",
              "</table>\n",
              "<p>7693 rows × 3 columns</p>\n",
              "</div>"
            ],
            "text/plain": [
              "       InvoiceDate     NetFare    zScore\n",
              "186902  2018-04-01  20918.0000 -0.083023\n",
              "186903  2018-04-01  16676.0000 -0.213040\n",
              "186904  2018-04-01  16676.0000 -0.213040\n",
              "187224  2018-04-05  22445.0000 -0.036221\n",
              "187331  2018-04-05  15193.0000 -0.258493\n",
              "...            ...         ...       ...\n",
              "186716  2019-06-10   2499.0000 -0.647562\n",
              "186768  2019-06-10   3816.1854 -0.607191\n",
              "186769  2019-06-10   3816.1854 -0.607191\n",
              "186770  2019-06-10   3816.1854 -0.607191\n",
              "186771  2019-06-10   3816.1854 -0.607191\n",
              "\n",
              "[7693 rows x 3 columns]"
            ]
          },
          "metadata": {
            "tags": []
          },
          "execution_count": 91
        }
      ]
    },
    {
      "cell_type": "code",
      "metadata": {
        "id": "QbconwyhdLkI",
        "colab_type": "code",
        "colab": {
          "base_uri": "https://localhost:8080/",
          "height": 572
        },
        "outputId": "f20a4546-3360-4663-bc8b-cd0b41b5aa41"
      },
      "source": [
        "plt.figure(figsize=size)\n",
        "\n",
        "sns.boxplot(interData['NetFare'])\n",
        "\n",
        "plt.show()"
      ],
      "execution_count": null,
      "outputs": [
        {
          "output_type": "display_data",
          "data": {
            "image/png": "[encoded data removed]",
            "text/plain": [
              "<Figure size 1368x648 with 1 Axes>"
            ]
          },
          "metadata": {
            "tags": []
          }
        }
      ]
    },
    {
      "cell_type": "code",
      "metadata": {
        "id": "_MsMfRN3gxkn",
        "colab_type": "code",
        "colab": {
          "base_uri": "https://localhost:8080/",
          "height": 104
        },
        "outputId": "43981330-5a0a-4d34-d92a-250934db7685"
      },
      "source": [
        "interData.isna().sum()"
      ],
      "execution_count": null,
      "outputs": [
        {
          "output_type": "execute_result",
          "data": {
            "text/plain": [
              "InvoiceDate    0\n",
              "NetFare        0\n",
              "zScore         0\n",
              "dtype: int64"
            ]
          },
          "metadata": {
            "tags": []
          },
          "execution_count": 93
        }
      ]
    },
    {
      "cell_type": "markdown",
      "metadata": {
        "id": "9Wlnxt5Vd4Zn",
        "colab_type": "text"
      },
      "source": [
        "Now lets Resample the Domestic Dataset and International dataset by Mean and **Total** "
      ]
    },
    {
      "cell_type": "code",
      "metadata": {
        "id": "NfBIcxUfdkEj",
        "colab_type": "code",
        "colab": {}
      },
      "source": [
        "domesticData.drop('zScore',1,inplace=True)\n",
        "interData.drop('zScore',1,inplace=True)"
      ],
      "execution_count": null,
      "outputs": []
    },
    {
      "cell_type": "code",
      "metadata": {
        "id": "cbc8GQfBeOup",
        "colab_type": "code",
        "colab": {}
      },
      "source": [
        "domesticData.set_index('InvoiceDate',inplace=True)"
      ],
      "execution_count": null,
      "outputs": []
    },
    {
      "cell_type": "code",
      "metadata": {
        "id": "wTdpxXiOeUIB",
        "colab_type": "code",
        "colab": {
          "base_uri": "https://localhost:8080/",
          "height": 104
        },
        "outputId": "96a3cc77-3276-4be5-dca6-0ce94d59ccec"
      },
      "source": [
        "mean = domesticData.resample('D').mean().ffill()\n",
        "total = domesticData.resample('D').sum().ffill()\n",
        "#len(mean) -- > 436\n",
        "#len(total) -- >436\n",
        "\n",
        "mean.columns = ['AvgNetFare']\n",
        "total.columns = ['TotalNetFare']\n",
        "\n",
        "print(mean.isna().sum())\n",
        "print(total.isna().sum())"
      ],
      "execution_count": null,
      "outputs": [
        {
          "output_type": "stream",
          "text": [
            "AvgNetFare    0\n",
            "dtype: int64\n",
            "TotalNetFare    0\n",
            "dtype: int64\n"
          ],
          "name": "stdout"
        }
      ]
    },
    {
      "cell_type": "markdown",
      "metadata": {
        "id": "Tkjw5BziiZPF",
        "colab_type": "text"
      },
      "source": [
        "In resampling method of pandas it fill the missing Dates or month even if there is no such row in original dataset and gives NaN value for the variable \n",
        "\n",
        "So we use ffill() (forward Fill) method to fill those missing NaN values "
      ]
    },
    {
      "cell_type": "code",
      "metadata": {
        "id": "cq3ubehwjwRy",
        "colab_type": "code",
        "colab": {
          "base_uri": "https://localhost:8080/",
          "height": 464
        },
        "outputId": "5b8046b4-b200-44fb-ed00-a9ba9f13e94d"
      },
      "source": [
        "finalDomesticData = mean.join(total)\n",
        "finalDomesticData"
      ],
      "execution_count": null,
      "outputs": [
        {
          "output_type": "execute_result",
          "data": {
            "text/html": [
              "<div>\n",
              "<style scoped>\n",
              "    .dataframe tbody tr th:only-of-type {\n",
              "        vertical-align: middle;\n",
              "    }\n",
              "\n",
              "    .dataframe tbody tr th {\n",
              "        vertical-align: top;\n",
              "    }\n",
              "\n",
              "    .dataframe thead th {\n",
              "        text-align: right;\n",
              "    }\n",
              "</style>\n",
              "<table border=\"1\" class=\"dataframe\">\n",
              "  <thead>\n",
              "    <tr style=\"text-align: right;\">\n",
              "      <th></th>\n",
              "      <th>AvgNetFare</th>\n",
              "      <th>TotalNetFare</th>\n",
              "    </tr>\n",
              "    <tr>\n",
              "      <th>InvoiceDate</th>\n",
              "      <th></th>\n",
              "      <th></th>\n",
              "    </tr>\n",
              "  </thead>\n",
              "  <tbody>\n",
              "    <tr>\n",
              "      <th>2018-04-01</th>\n",
              "      <td>4276.300000</td>\n",
              "      <td>85526.0</td>\n",
              "    </tr>\n",
              "    <tr>\n",
              "      <th>2018-04-02</th>\n",
              "      <td>4197.466667</td>\n",
              "      <td>251848.0</td>\n",
              "    </tr>\n",
              "    <tr>\n",
              "      <th>2018-04-03</th>\n",
              "      <td>4163.578125</td>\n",
              "      <td>266469.0</td>\n",
              "    </tr>\n",
              "    <tr>\n",
              "      <th>2018-04-04</th>\n",
              "      <td>4112.812500</td>\n",
              "      <td>329025.0</td>\n",
              "    </tr>\n",
              "    <tr>\n",
              "      <th>2018-04-05</th>\n",
              "      <td>3977.666667</td>\n",
              "      <td>369923.0</td>\n",
              "    </tr>\n",
              "    <tr>\n",
              "      <th>...</th>\n",
              "      <td>...</td>\n",
              "      <td>...</td>\n",
              "    </tr>\n",
              "    <tr>\n",
              "      <th>2019-06-06</th>\n",
              "      <td>3659.568144</td>\n",
              "      <td>2228677.0</td>\n",
              "    </tr>\n",
              "    <tr>\n",
              "      <th>2019-06-07</th>\n",
              "      <td>3563.161905</td>\n",
              "      <td>2244792.0</td>\n",
              "    </tr>\n",
              "    <tr>\n",
              "      <th>2019-06-08</th>\n",
              "      <td>3426.708642</td>\n",
              "      <td>1387817.0</td>\n",
              "    </tr>\n",
              "    <tr>\n",
              "      <th>2019-06-09</th>\n",
              "      <td>3414.024390</td>\n",
              "      <td>559900.0</td>\n",
              "    </tr>\n",
              "    <tr>\n",
              "      <th>2019-06-10</th>\n",
              "      <td>3491.726248</td>\n",
              "      <td>2168362.0</td>\n",
              "    </tr>\n",
              "  </tbody>\n",
              "</table>\n",
              "<p>436 rows × 2 columns</p>\n",
              "</div>"
            ],
            "text/plain": [
              "              AvgNetFare  TotalNetFare\n",
              "InvoiceDate                           \n",
              "2018-04-01   4276.300000       85526.0\n",
              "2018-04-02   4197.466667      251848.0\n",
              "2018-04-03   4163.578125      266469.0\n",
              "2018-04-04   4112.812500      329025.0\n",
              "2018-04-05   3977.666667      369923.0\n",
              "...                  ...           ...\n",
              "2019-06-06   3659.568144     2228677.0\n",
              "2019-06-07   3563.161905     2244792.0\n",
              "2019-06-08   3426.708642     1387817.0\n",
              "2019-06-09   3414.024390      559900.0\n",
              "2019-06-10   3491.726248     2168362.0\n",
              "\n",
              "[436 rows x 2 columns]"
            ]
          },
          "metadata": {
            "tags": []
          },
          "execution_count": 97
        }
      ]
    },
    {
      "cell_type": "markdown",
      "metadata": {
        "id": "VAPXFDPVfmYR",
        "colab_type": "text"
      },
      "source": [
        "International Dataset Resampling with **Mean** and Total"
      ]
    },
    {
      "cell_type": "code",
      "metadata": {
        "id": "u_SIW1Fme8Yc",
        "colab_type": "code",
        "colab": {}
      },
      "source": [
        "interData.set_index('InvoiceDate',inplace=True)"
      ],
      "execution_count": null,
      "outputs": []
    },
    {
      "cell_type": "code",
      "metadata": {
        "id": "hofuSOUuhM3Z",
        "colab_type": "code",
        "colab": {
          "base_uri": "https://localhost:8080/",
          "height": 71
        },
        "outputId": "cb23acd1-a7c3-475e-b10c-a2e4b90a4b71"
      },
      "source": [
        "interData.isna().sum()"
      ],
      "execution_count": null,
      "outputs": [
        {
          "output_type": "execute_result",
          "data": {
            "text/plain": [
              "NetFare    0\n",
              "dtype: int64"
            ]
          },
          "metadata": {
            "tags": []
          },
          "execution_count": 99
        }
      ]
    },
    {
      "cell_type": "code",
      "metadata": {
        "id": "ggI-nBrXf4iJ",
        "colab_type": "code",
        "colab": {
          "base_uri": "https://localhost:8080/",
          "height": 104
        },
        "outputId": "994e313a-3006-4f8c-8e6e-2fd0dde8d4ab"
      },
      "source": [
        "mean = interData.resample('D').mean().ffill()\n",
        "total = interData.resample('D').sum().ffill()\n",
        "#len(mean) -- > 436\n",
        "#len(total) -- >436\n",
        "\n",
        "mean.columns = ['AvgNetFare']\n",
        "total.columns = ['TotalNetFare']\n",
        "\n",
        "print(mean.isna().sum())\n",
        "print(total.isna().sum())"
      ],
      "execution_count": null,
      "outputs": [
        {
          "output_type": "stream",
          "text": [
            "AvgNetFare    0\n",
            "dtype: int64\n",
            "TotalNetFare    0\n",
            "dtype: int64\n"
          ],
          "name": "stdout"
        }
      ]
    },
    {
      "cell_type": "code",
      "metadata": {
        "id": "6wx9HzIsf89B",
        "colab_type": "code",
        "colab": {
          "base_uri": "https://localhost:8080/",
          "height": 464
        },
        "outputId": "162783cf-172c-416d-a1b8-7ec7b2c7d883"
      },
      "source": [
        "finalInternationalData = mean.join(total)\n",
        "finalInternationalData"
      ],
      "execution_count": null,
      "outputs": [
        {
          "output_type": "execute_result",
          "data": {
            "text/html": [
              "<div>\n",
              "<style scoped>\n",
              "    .dataframe tbody tr th:only-of-type {\n",
              "        vertical-align: middle;\n",
              "    }\n",
              "\n",
              "    .dataframe tbody tr th {\n",
              "        vertical-align: top;\n",
              "    }\n",
              "\n",
              "    .dataframe thead th {\n",
              "        text-align: right;\n",
              "    }\n",
              "</style>\n",
              "<table border=\"1\" class=\"dataframe\">\n",
              "  <thead>\n",
              "    <tr style=\"text-align: right;\">\n",
              "      <th></th>\n",
              "      <th>AvgNetFare</th>\n",
              "      <th>TotalNetFare</th>\n",
              "    </tr>\n",
              "    <tr>\n",
              "      <th>InvoiceDate</th>\n",
              "      <th></th>\n",
              "      <th></th>\n",
              "    </tr>\n",
              "  </thead>\n",
              "  <tbody>\n",
              "    <tr>\n",
              "      <th>2018-04-01</th>\n",
              "      <td>18090.000000</td>\n",
              "      <td>54270.0000</td>\n",
              "    </tr>\n",
              "    <tr>\n",
              "      <th>2018-04-02</th>\n",
              "      <td>18090.000000</td>\n",
              "      <td>0.0000</td>\n",
              "    </tr>\n",
              "    <tr>\n",
              "      <th>2018-04-03</th>\n",
              "      <td>18090.000000</td>\n",
              "      <td>0.0000</td>\n",
              "    </tr>\n",
              "    <tr>\n",
              "      <th>2018-04-04</th>\n",
              "      <td>18090.000000</td>\n",
              "      <td>0.0000</td>\n",
              "    </tr>\n",
              "    <tr>\n",
              "      <th>2018-04-05</th>\n",
              "      <td>17610.333333</td>\n",
              "      <td>52831.0000</td>\n",
              "    </tr>\n",
              "    <tr>\n",
              "      <th>...</th>\n",
              "      <td>...</td>\n",
              "      <td>...</td>\n",
              "    </tr>\n",
              "    <tr>\n",
              "      <th>2019-06-06</th>\n",
              "      <td>15922.467391</td>\n",
              "      <td>366216.7500</td>\n",
              "    </tr>\n",
              "    <tr>\n",
              "      <th>2019-06-07</th>\n",
              "      <td>12941.017667</td>\n",
              "      <td>388230.5300</td>\n",
              "    </tr>\n",
              "    <tr>\n",
              "      <th>2019-06-08</th>\n",
              "      <td>13275.043404</td>\n",
              "      <td>623927.0400</td>\n",
              "    </tr>\n",
              "    <tr>\n",
              "      <th>2019-06-09</th>\n",
              "      <td>12409.714286</td>\n",
              "      <td>260604.0000</td>\n",
              "    </tr>\n",
              "    <tr>\n",
              "      <th>2019-06-10</th>\n",
              "      <td>13507.448367</td>\n",
              "      <td>648357.5216</td>\n",
              "    </tr>\n",
              "  </tbody>\n",
              "</table>\n",
              "<p>436 rows × 2 columns</p>\n",
              "</div>"
            ],
            "text/plain": [
              "               AvgNetFare  TotalNetFare\n",
              "InvoiceDate                            \n",
              "2018-04-01   18090.000000    54270.0000\n",
              "2018-04-02   18090.000000        0.0000\n",
              "2018-04-03   18090.000000        0.0000\n",
              "2018-04-04   18090.000000        0.0000\n",
              "2018-04-05   17610.333333    52831.0000\n",
              "...                   ...           ...\n",
              "2019-06-06   15922.467391   366216.7500\n",
              "2019-06-07   12941.017667   388230.5300\n",
              "2019-06-08   13275.043404   623927.0400\n",
              "2019-06-09   12409.714286   260604.0000\n",
              "2019-06-10   13507.448367   648357.5216\n",
              "\n",
              "[436 rows x 2 columns]"
            ]
          },
          "metadata": {
            "tags": []
          },
          "execution_count": 101
        }
      ]
    },
    {
      "cell_type": "code",
      "metadata": {
        "id": "h8b9MfIfhECK",
        "colab_type": "code",
        "colab": {}
      },
      "source": [
        "finalInternationalData.to_csv('/content/drive/My Drive/ColabDataset/Flight Fare/FinalInternatioalDataset.csv',index=True)"
      ],
      "execution_count": null,
      "outputs": []
    },
    {
      "cell_type": "code",
      "metadata": {
        "id": "da9q9Bpumgd4",
        "colab_type": "code",
        "colab": {}
      },
      "source": [
        "finalDomesticData.to_csv('/content/drive/My Drive/ColabDataset/Flight Fare/FinalDomesticDataset.csv',index=True)"
      ],
      "execution_count": null,
      "outputs": []
    },
    {
      "cell_type": "code",
      "metadata": {
        "id": "_Hs_rJdLmqdw",
        "colab_type": "code",
        "colab": {}
      },
      "source": [
        ""
      ],
      "execution_count": null,
      "outputs": []
    }
  ]
}