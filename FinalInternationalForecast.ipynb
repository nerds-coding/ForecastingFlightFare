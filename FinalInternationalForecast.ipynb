{
  "nbformat": 4,
  "nbformat_minor": 0,
  "metadata": {
    "colab": {
      "name": "FinalInternationalForecast.ipynb",
      "provenance": [],
      "collapsed_sections": []
    },
    "kernelspec": {
      "name": "python3",
      "display_name": "Python 3"
    }
  },
  "cells": [
    {
      "cell_type": "code",
      "metadata": {
        "id": "BprjQ-sCJn85",
        "colab_type": "code",
        "outputId": "26586e78-d2e2-4d09-85cf-069e17457409",
        "colab": {
          "base_uri": "https://localhost:8080/",
          "height": 335
        }
      },
      "source": [
        "import pandas as pd\n",
        "import numpy as np\n",
        "import matplotlib.pyplot as plt\n",
        "import seaborn as sns\n",
        "import matplotlib.dates as mdates\n",
        "from matplotlib.ticker import AutoMinorLocator, MultipleLocator, FuncFormatter\n",
        "\n",
        "from statsmodels.tsa.stattools import adfuller\n",
        "from pyramid.arima import auto_arima\n",
        "from statsmodels.graphics.tsaplots import plot_acf, plot_pacf\n",
        "from statsmodels.tsa.arima_model import ARIMA\n",
        "\n",
        "from statsmodels.tsa.statespace.sarimax import SARIMAX\n",
        "\n",
        "from sklearn.metrics import mean_squared_error,mean_absolute_error\n",
        "\n",
        "import warnings\n",
        "warnings.filterwarnings('ignore')"
      ],
      "execution_count": 1,
      "outputs": [
        {
          "output_type": "stream",
          "text": [
            "/usr/local/lib/python3.6/dist-packages/statsmodels/tools/_testing.py:19: FutureWarning: pandas.util.testing is deprecated. Use the functions in the public API at pandas.testing instead.\n",
            "  import pandas.util.testing as tm\n",
            "/usr/local/lib/python3.6/dist-packages/sklearn/externals/six.py:31: FutureWarning: The module is deprecated in version 0.21 and will be removed in version 0.23 since we've dropped support for Python 2.7. Please rely on the official version of six (https://pypi.org/project/six/).\n",
            "  \"(https://pypi.org/project/six/).\", FutureWarning)\n",
            "/usr/local/lib/python3.6/dist-packages/sklearn/externals/joblib/__init__.py:15: FutureWarning: sklearn.externals.joblib is deprecated in 0.21 and will be removed in 0.23. Please import this functionality directly from joblib, which can be installed with: pip install joblib. If this warning is raised when loading pickled models, you may need to re-serialize those models with scikit-learn 0.21+.\n",
            "  warnings.warn(msg, category=FutureWarning)\n",
            "/usr/local/lib/python3.6/dist-packages/pyramid/__init__.py:68: UserWarning: \n",
            "    The 'pyramid' package will be migrating to a new namespace beginning in \n",
            "    version 1.0.0: 'pmdarima'. This is due to a package name collision with the\n",
            "    Pyramid web framework. For more information, see Issue #34:\n",
            "    \n",
            "        https://github.com/tgsmith61591/pyramid/issues/34\n",
            "        \n",
            "    The package will subsequently be installable via the name 'pmdarima'; the\n",
            "    only functional change to the user will be the import name. All imports\n",
            "    from 'pyramid' will change to 'pmdarima'.\n",
            "    \n",
            "  \"\"\", UserWarning)\n"
          ],
          "name": "stderr"
        }
      ]
    },
    {
      "cell_type": "code",
      "metadata": {
        "id": "h9xtOEPZK4xs",
        "colab_type": "code",
        "colab": {}
      },
      "source": [
        "#pip install pyramid-arima"
      ],
      "execution_count": 0,
      "outputs": []
    },
    {
      "cell_type": "code",
      "metadata": {
        "id": "rhwD7WGtK7pW",
        "colab_type": "code",
        "colab": {}
      },
      "source": [
        "data = pd.read_csv('/content/drive/My Drive/ColabDataset/FinalInternatioalDataset.csv')"
      ],
      "execution_count": 0,
      "outputs": []
    },
    {
      "cell_type": "code",
      "metadata": {
        "id": "LwbSiIUWMPTY",
        "colab_type": "code",
        "colab": {}
      },
      "source": [
        "size=(19,9)\n",
        "prophetData = data[['InvoiceDate','AvgNetFare']]"
      ],
      "execution_count": 0,
      "outputs": []
    },
    {
      "cell_type": "code",
      "metadata": {
        "id": "xdylTvXNLJqD",
        "colab_type": "code",
        "outputId": "94b9bc9f-5775-470d-badc-0ca993c0687a",
        "colab": {
          "base_uri": "https://localhost:8080/",
          "height": 374
        }
      },
      "source": [
        "data.head(10)"
      ],
      "execution_count": 5,
      "outputs": [
        {
          "output_type": "execute_result",
          "data": {
            "text/html": [
              "<div>\n",
              "<style scoped>\n",
              "    .dataframe tbody tr th:only-of-type {\n",
              "        vertical-align: middle;\n",
              "    }\n",
              "\n",
              "    .dataframe tbody tr th {\n",
              "        vertical-align: top;\n",
              "    }\n",
              "\n",
              "    .dataframe thead th {\n",
              "        text-align: right;\n",
              "    }\n",
              "</style>\n",
              "<table border=\"1\" class=\"dataframe\">\n",
              "  <thead>\n",
              "    <tr style=\"text-align: right;\">\n",
              "      <th></th>\n",
              "      <th>InvoiceDate</th>\n",
              "      <th>AvgNetFare</th>\n",
              "      <th>TotalNetFare</th>\n",
              "    </tr>\n",
              "  </thead>\n",
              "  <tbody>\n",
              "    <tr>\n",
              "      <th>0</th>\n",
              "      <td>2018-04-01</td>\n",
              "      <td>18090.000000</td>\n",
              "      <td>54270.0</td>\n",
              "    </tr>\n",
              "    <tr>\n",
              "      <th>1</th>\n",
              "      <td>2018-04-02</td>\n",
              "      <td>18090.000000</td>\n",
              "      <td>0.0</td>\n",
              "    </tr>\n",
              "    <tr>\n",
              "      <th>2</th>\n",
              "      <td>2018-04-03</td>\n",
              "      <td>18090.000000</td>\n",
              "      <td>0.0</td>\n",
              "    </tr>\n",
              "    <tr>\n",
              "      <th>3</th>\n",
              "      <td>2018-04-04</td>\n",
              "      <td>18090.000000</td>\n",
              "      <td>0.0</td>\n",
              "    </tr>\n",
              "    <tr>\n",
              "      <th>4</th>\n",
              "      <td>2018-04-05</td>\n",
              "      <td>17610.333333</td>\n",
              "      <td>52831.0</td>\n",
              "    </tr>\n",
              "    <tr>\n",
              "      <th>5</th>\n",
              "      <td>2018-04-06</td>\n",
              "      <td>13392.166667</td>\n",
              "      <td>80353.0</td>\n",
              "    </tr>\n",
              "    <tr>\n",
              "      <th>6</th>\n",
              "      <td>2018-04-07</td>\n",
              "      <td>14550.500000</td>\n",
              "      <td>116404.0</td>\n",
              "    </tr>\n",
              "    <tr>\n",
              "      <th>7</th>\n",
              "      <td>2018-04-08</td>\n",
              "      <td>13936.000000</td>\n",
              "      <td>13936.0</td>\n",
              "    </tr>\n",
              "    <tr>\n",
              "      <th>8</th>\n",
              "      <td>2018-04-09</td>\n",
              "      <td>13936.000000</td>\n",
              "      <td>0.0</td>\n",
              "    </tr>\n",
              "    <tr>\n",
              "      <th>9</th>\n",
              "      <td>2018-04-10</td>\n",
              "      <td>13936.000000</td>\n",
              "      <td>0.0</td>\n",
              "    </tr>\n",
              "  </tbody>\n",
              "</table>\n",
              "</div>"
            ],
            "text/plain": [
              "  InvoiceDate    AvgNetFare  TotalNetFare\n",
              "0  2018-04-01  18090.000000       54270.0\n",
              "1  2018-04-02  18090.000000           0.0\n",
              "2  2018-04-03  18090.000000           0.0\n",
              "3  2018-04-04  18090.000000           0.0\n",
              "4  2018-04-05  17610.333333       52831.0\n",
              "5  2018-04-06  13392.166667       80353.0\n",
              "6  2018-04-07  14550.500000      116404.0\n",
              "7  2018-04-08  13936.000000       13936.0\n",
              "8  2018-04-09  13936.000000           0.0\n",
              "9  2018-04-10  13936.000000           0.0"
            ]
          },
          "metadata": {
            "tags": []
          },
          "execution_count": 5
        }
      ]
    },
    {
      "cell_type": "code",
      "metadata": {
        "id": "Jze4aSEtLLE0",
        "colab_type": "code",
        "colab": {}
      },
      "source": [
        "data['InvoiceDate'] = pd.to_datetime(data['InvoiceDate'])"
      ],
      "execution_count": 0,
      "outputs": []
    },
    {
      "cell_type": "code",
      "metadata": {
        "id": "8bPKBJoMMJBG",
        "colab_type": "code",
        "outputId": "81d0369a-5c68-4fe2-eea3-3be6f46169b7",
        "colab": {
          "base_uri": "https://localhost:8080/",
          "height": 572
        }
      },
      "source": [
        "ax = data.plot(x='InvoiceDate',y='AvgNetFare',figsize=size)\n",
        "\n",
        "ax.get_xaxis().set_major_locator(mdates.MonthLocator(interval=1))\n",
        "ax.get_xaxis().set_major_formatter(mdates.DateFormatter('%b-%y'))"
      ],
      "execution_count": 7,
      "outputs": [
        {
          "output_type": "display_data",
          "data": {
            "image/png": "[encoded data removed]",
            "text/plain": [
              "<Figure size 1368x648 with 1 Axes>"
            ]
          },
          "metadata": {
            "tags": [],
            "needs_background": "light"
          }
        }
      ]
    },
    {
      "cell_type": "code",
      "metadata": {
        "id": "4oPh-iBKMD1p",
        "colab_type": "code",
        "colab": {}
      },
      "source": [
        "data.set_index('InvoiceDate',inplace=True)"
      ],
      "execution_count": 0,
      "outputs": []
    },
    {
      "cell_type": "code",
      "metadata": {
        "id": "RABcegNvMOEg",
        "colab_type": "code",
        "outputId": "f01fee5f-c2e7-47a7-a997-4b88e06485a2",
        "colab": {
          "base_uri": "https://localhost:8080/",
          "height": 170
        }
      },
      "source": [
        "def DickeyFullerTest(val):\n",
        "  ad = adfuller(val['AvgNetFare'])\n",
        "\n",
        "  print('Crictical Value -   ',ad[0])\n",
        "  print('P Value -   ',ad[1])\n",
        "  print('No. of Lag Used -   ',ad[2])\n",
        "  print('No. of value used -   ',ad[3])\n",
        "\n",
        "  for key,val in ad[4].items():\n",
        "    print(key,val)\n",
        "\n",
        "  if(ad[1]>=0.05):\n",
        "    print('Data is not Stationary')\n",
        "  else:\n",
        "    print('Data is Stationary')\n",
        "\n",
        "DickeyFullerTest(data)"
      ],
      "execution_count": 9,
      "outputs": [
        {
          "output_type": "stream",
          "text": [
            "Crictical Value -    -3.5953242626895694\n",
            "P Value -    0.00585104956337497\n",
            "No. of Lag Used -    9\n",
            "No. of value used -    426\n",
            "1% -3.4457939940402107\n",
            "5% -2.8683485906158963\n",
            "10% -2.570396746236417\n",
            "Data is Stationary\n"
          ],
          "name": "stdout"
        }
      ]
    },
    {
      "cell_type": "code",
      "metadata": {
        "id": "K1Qgcq4iMpRc",
        "colab_type": "code",
        "outputId": "ea53c9d2-fb33-4ae6-9e37-66f6f792a266",
        "colab": {
          "base_uri": "https://localhost:8080/",
          "height": 565
        }
      },
      "source": [
        "plot_acf(data['AvgNetFare'],lags=30)\n",
        "\n",
        "\n",
        "plot_pacf(data['AvgNetFare'],lags=30)\n",
        "\n",
        "plt.show()"
      ],
      "execution_count": 10,
      "outputs": [
        {
          "output_type": "display_data",
          "data": {
            "image/png": "[encoded data removed]",
            "text/plain": [
              "<Figure size 432x288 with 1 Axes>"
            ]
          },
          "metadata": {
            "tags": [],
            "needs_background": "light"
          }
        },
        {
          "output_type": "display_data",
          "data": {
            "image/png": "[encoded data removed]",
            "text/plain": [
              "<Figure size 432x288 with 1 Axes>"
            ]
          },
          "metadata": {
            "tags": [],
            "needs_background": "light"
          }
        }
      ]
    },
    {
      "cell_type": "code",
      "metadata": {
        "id": "MOM5Jm0yVvf5",
        "colab_type": "code",
        "colab": {}
      },
      "source": [
        "# x = data['AvgNetFare'].diff(1)\n",
        "\n",
        "# plt.plot(x)\n",
        "\n",
        "# x.dropna(inplace=True)\n",
        "\n",
        "# xTrain,xTest = x[:406],x[406:]\n",
        "\n",
        "# x, x_diff = df['A'].iloc[0], df['B'].iloc[1:]\n",
        "# df['C'] = np.r_[x, x_diff].cumsum().astype(int)"
      ],
      "execution_count": 0,
      "outputs": []
    },
    {
      "cell_type": "code",
      "metadata": {
        "id": "BmhFyHHBMvDl",
        "colab_type": "code",
        "colab": {}
      },
      "source": [
        "xTrain,xTest = data['AvgNetFare'][:406],data['AvgNetFare'][406:]"
      ],
      "execution_count": 0,
      "outputs": []
    },
    {
      "cell_type": "code",
      "metadata": {
        "id": "7DRr94D_M0e2",
        "colab_type": "code",
        "outputId": "24823215-28ae-4fcc-ec0a-193783bc7a2d",
        "colab": {
          "base_uri": "https://localhost:8080/",
          "height": 364
        }
      },
      "source": [
        "arima = ARIMA(xTrain,order=(1,0,1))\n",
        "arima = arima.fit()\n",
        "arima.summary()"
      ],
      "execution_count": 13,
      "outputs": [
        {
          "output_type": "execute_result",
          "data": {
            "text/html": [
              "<table class=\"simpletable\">\n",
              "<caption>ARMA Model Results</caption>\n",
              "<tr>\n",
              "  <th>Dep. Variable:</th>    <td>AvgNetFare</td>    <th>  No. Observations:  </th>    <td>406</td>   \n",
              "</tr>\n",
              "<tr>\n",
              "  <th>Model:</th>            <td>ARMA(1, 1)</td>    <th>  Log Likelihood     </th> <td>-3935.827</td>\n",
              "</tr>\n",
              "<tr>\n",
              "  <th>Method:</th>             <td>css-mle</td>     <th>  S.D. of innovations</th> <td>3923.252</td> \n",
              "</tr>\n",
              "<tr>\n",
              "  <th>Date:</th>          <td>Tue, 16 Jun 2020</td> <th>  AIC                </th> <td>7879.654</td> \n",
              "</tr>\n",
              "<tr>\n",
              "  <th>Time:</th>              <td>12:49:53</td>     <th>  BIC                </th> <td>7895.679</td> \n",
              "</tr>\n",
              "<tr>\n",
              "  <th>Sample:</th>           <td>04-01-2018</td>    <th>  HQIC               </th> <td>7885.996</td> \n",
              "</tr>\n",
              "<tr>\n",
              "  <th></th>                 <td>- 05-11-2019</td>   <th>                     </th>     <td> </td>    \n",
              "</tr>\n",
              "</table>\n",
              "<table class=\"simpletable\">\n",
              "<tr>\n",
              "          <td></td>            <th>coef</th>     <th>std err</th>      <th>z</th>      <th>P>|z|</th>  <th>[0.025</th>    <th>0.975]</th>  \n",
              "</tr>\n",
              "<tr>\n",
              "  <th>const</th>            <td> 1.355e+04</td> <td>  698.950</td> <td>   19.381</td> <td> 0.000</td> <td> 1.22e+04</td> <td> 1.49e+04</td>\n",
              "</tr>\n",
              "<tr>\n",
              "  <th>ar.L1.AvgNetFare</th> <td>    0.9608</td> <td>    0.026</td> <td>   36.352</td> <td> 0.000</td> <td>    0.909</td> <td>    1.013</td>\n",
              "</tr>\n",
              "<tr>\n",
              "  <th>ma.L1.AvgNetFare</th> <td>   -0.8535</td> <td>    0.052</td> <td>  -16.295</td> <td> 0.000</td> <td>   -0.956</td> <td>   -0.751</td>\n",
              "</tr>\n",
              "</table>\n",
              "<table class=\"simpletable\">\n",
              "<caption>Roots</caption>\n",
              "<tr>\n",
              "    <td></td>   <th>            Real</th>  <th>         Imaginary</th> <th>         Modulus</th>  <th>        Frequency</th>\n",
              "</tr>\n",
              "<tr>\n",
              "  <th>AR.1</th> <td>           1.0408</td> <td>          +0.0000j</td> <td>           1.0408</td> <td>           0.0000</td>\n",
              "</tr>\n",
              "<tr>\n",
              "  <th>MA.1</th> <td>           1.1716</td> <td>          +0.0000j</td> <td>           1.1716</td> <td>           0.0000</td>\n",
              "</tr>\n",
              "</table>"
            ],
            "text/plain": [
              "<class 'statsmodels.iolib.summary.Summary'>\n",
              "\"\"\"\n",
              "                              ARMA Model Results                              \n",
              "==============================================================================\n",
              "Dep. Variable:             AvgNetFare   No. Observations:                  406\n",
              "Model:                     ARMA(1, 1)   Log Likelihood               -3935.827\n",
              "Method:                       css-mle   S.D. of innovations           3923.252\n",
              "Date:                Tue, 16 Jun 2020   AIC                           7879.654\n",
              "Time:                        12:49:53   BIC                           7895.679\n",
              "Sample:                    04-01-2018   HQIC                          7885.996\n",
              "                         - 05-11-2019                                         \n",
              "====================================================================================\n",
              "                       coef    std err          z      P>|z|      [0.025      0.975]\n",
              "------------------------------------------------------------------------------------\n",
              "const             1.355e+04    698.950     19.381      0.000    1.22e+04    1.49e+04\n",
              "ar.L1.AvgNetFare     0.9608      0.026     36.352      0.000       0.909       1.013\n",
              "ma.L1.AvgNetFare    -0.8535      0.052    -16.295      0.000      -0.956      -0.751\n",
              "                                    Roots                                    \n",
              "=============================================================================\n",
              "                  Real          Imaginary           Modulus         Frequency\n",
              "-----------------------------------------------------------------------------\n",
              "AR.1            1.0408           +0.0000j            1.0408            0.0000\n",
              "MA.1            1.1716           +0.0000j            1.1716            0.0000\n",
              "-----------------------------------------------------------------------------\n",
              "\"\"\""
            ]
          },
          "metadata": {
            "tags": []
          },
          "execution_count": 13
        }
      ]
    },
    {
      "cell_type": "code",
      "metadata": {
        "id": "6Z4YWRs2NCHk",
        "colab_type": "code",
        "outputId": "3ab1ae90-fbad-4086-adae-a47125a5a6d6",
        "colab": {
          "base_uri": "https://localhost:8080/",
          "height": 71
        }
      },
      "source": [
        "pred = arima.forecast(steps=len(xTest))\n",
        "\n",
        "print(mean_squared_error(xTest,pred[0]))\n",
        "print(np.sqrt(mean_squared_error(xTest,pred[0])))"
      ],
      "execution_count": 14,
      "outputs": [
        {
          "output_type": "stream",
          "text": [
            "6819384.928496832\n",
            "2611.395207259298\n"
          ],
          "name": "stdout"
        }
      ]
    },
    {
      "cell_type": "code",
      "metadata": {
        "id": "Ao4QfGQRNIpg",
        "colab_type": "code",
        "outputId": "1de6291b-b93a-4d89-e13b-8e261cc9df31",
        "colab": {
          "base_uri": "https://localhost:8080/",
          "height": 593
        }
      },
      "source": [
        "ax=arima.plot_predict(start='2019-05-12' , end='2019-06-10')\n",
        "ax.set_figheight(9)\n",
        "ax.set_figwidth(19)"
      ],
      "execution_count": 15,
      "outputs": [
        {
          "output_type": "display_data",
          "data": {
            "image/png": "[encoded data removed]",
            "text/plain": [
              "<Figure size 1368x648 with 1 Axes>"
            ]
          },
          "metadata": {
            "tags": [],
            "needs_background": "light"
          }
        }
      ]
    },
    {
      "cell_type": "code",
      "metadata": {
        "id": "ZL8lLmD3NV2G",
        "colab_type": "code",
        "outputId": "0228e31c-afe2-4147-f252-82bce4efc1da",
        "colab": {
          "base_uri": "https://localhost:8080/",
          "height": 170
        }
      },
      "source": [
        "auto = auto_arima(xTrain,start_p=0,start_q=0,d=0,max_d=9,max_p=30,end_q=30,\n",
        "                  start_P=0,start_Q=0,D=0,max_P=30,max_Q=30,max_D=30,\n",
        "                  trace=True)"
      ],
      "execution_count": 16,
      "outputs": [
        {
          "output_type": "stream",
          "text": [
            "Fit ARIMA: order=(0, 0, 0) seasonal_order=(0, 0, 0, 1); AIC=7930.743, BIC=7938.756, Fit time=0.031 seconds\n",
            "Fit ARIMA: order=(1, 0, 0) seasonal_order=(0, 0, 0, 1); AIC=7899.895, BIC=7911.914, Fit time=0.028 seconds\n",
            "Fit ARIMA: order=(0, 0, 1) seasonal_order=(0, 0, 0, 1); AIC=7909.591, BIC=7921.610, Fit time=0.052 seconds\n",
            "Fit ARIMA: order=(2, 0, 0) seasonal_order=(0, 0, 0, 1); AIC=7890.556, BIC=7906.582, Fit time=0.104 seconds\n",
            "Fit ARIMA: order=(2, 0, 1) seasonal_order=(0, 0, 0, 1); AIC=7892.557, BIC=7912.589, Fit time=0.136 seconds\n",
            "Fit ARIMA: order=(3, 0, 1) seasonal_order=(0, 0, 0, 1); AIC=7894.552, BIC=7918.590, Fit time=0.233 seconds\n",
            "Fit ARIMA: order=(3, 0, 0) seasonal_order=(0, 0, 0, 1); AIC=7892.552, BIC=7912.584, Fit time=0.118 seconds\n",
            "Total fit time: 0.706 seconds\n"
          ],
          "name": "stdout"
        }
      ]
    },
    {
      "cell_type": "code",
      "metadata": {
        "id": "N886FsMKNZ0_",
        "colab_type": "code",
        "colab": {}
      },
      "source": [
        "auto = auto.fit(xTrain)\n",
        "pred = auto.predict(len(xTest))"
      ],
      "execution_count": 0,
      "outputs": []
    },
    {
      "cell_type": "code",
      "metadata": {
        "id": "qb3qKnbkNgyy",
        "colab_type": "code",
        "outputId": "854e9d64-401c-419d-e658-861826e14891",
        "colab": {
          "base_uri": "https://localhost:8080/",
          "height": 54
        }
      },
      "source": [
        "mean_squared_error(xTest,pred)\n",
        "np.sqrt(mean_squared_error(xTest,pred))"
      ],
      "execution_count": 18,
      "outputs": [
        {
          "output_type": "execute_result",
          "data": {
            "text/plain": [
              "2736.675865774724"
            ]
          },
          "metadata": {
            "tags": []
          },
          "execution_count": 18
        }
      ]
    },
    {
      "cell_type": "code",
      "metadata": {
        "id": "_SftWZeeNoY_",
        "colab_type": "code",
        "colab": {}
      },
      "source": [
        "sar = SARIMAX(xTrain,order=(10,0,4),seasonal_order=(10,2,0,7))\n",
        "sar= sar.fit()"
      ],
      "execution_count": 0,
      "outputs": []
    },
    {
      "cell_type": "code",
      "metadata": {
        "id": "hGck7cRcNt-N",
        "colab_type": "code",
        "outputId": "31354e04-657c-4287-e396-b631d22fbed1",
        "colab": {
          "base_uri": "https://localhost:8080/",
          "height": 71
        }
      },
      "source": [
        "pred = sar.forecast(steps=len(xTest))\n",
        "\n",
        "print(mean_squared_error(xTest,pred))\n",
        "print(np.sqrt(mean_squared_error(xTest,pred)))"
      ],
      "execution_count": 48,
      "outputs": [
        {
          "output_type": "stream",
          "text": [
            "14230189.994115323\n",
            "3772.29240570178\n"
          ],
          "name": "stdout"
        }
      ]
    },
    {
      "cell_type": "code",
      "metadata": {
        "id": "cBL9_5NIS5_J",
        "colab_type": "code",
        "colab": {}
      },
      "source": [
        ""
      ],
      "execution_count": 0,
      "outputs": []
    },
    {
      "cell_type": "markdown",
      "metadata": {
        "id": "s4eG4uRAPTpz",
        "colab_type": "text"
      },
      "source": [
        "Let use Deep Neural Network"
      ]
    },
    {
      "cell_type": "code",
      "metadata": {
        "id": "IsTJLlalNx27",
        "colab_type": "code",
        "outputId": "071b3f66-7bad-406d-a2bb-e78ad1b87d9c",
        "colab": {
          "base_uri": "https://localhost:8080/",
          "height": 54
        }
      },
      "source": [
        "from keras.layers import Dense,LSTM\n",
        "from keras.models import Sequential\n",
        "from keras.preprocessing.sequence import TimeseriesGenerator\n",
        "from keras.callbacks import EarlyStopping\n",
        "from sklearn.preprocessing import StandardScaler"
      ],
      "execution_count": 21,
      "outputs": [
        {
          "output_type": "stream",
          "text": [
            "Using TensorFlow backend.\n"
          ],
          "name": "stderr"
        }
      ]
    },
    {
      "cell_type": "code",
      "metadata": {
        "id": "HmR3OJhjX680",
        "colab_type": "code",
        "colab": {}
      },
      "source": [
        "xTrain = np.array(xTrain).reshape(-1,1)\n",
        "xTest = np.array(xTest).reshape(-1,1)"
      ],
      "execution_count": 0,
      "outputs": []
    },
    {
      "cell_type": "code",
      "metadata": {
        "id": "8cWWRVa9cctH",
        "colab_type": "code",
        "colab": {}
      },
      "source": [
        "scaler = StandardScaler()\n",
        "scaledTrain = scaler.fit_transform(xTrain)\n",
        "scaledTest = scaler.fit_transform(xTest)"
      ],
      "execution_count": 0,
      "outputs": []
    },
    {
      "cell_type": "code",
      "metadata": {
        "id": "EcT-2AE_WI2Z",
        "colab_type": "code",
        "colab": {}
      },
      "source": [
        "length= 20\n",
        "batch = 1"
      ],
      "execution_count": 0,
      "outputs": []
    },
    {
      "cell_type": "code",
      "metadata": {
        "id": "ecw-UYyUWOA8",
        "colab_type": "code",
        "colab": {}
      },
      "source": [
        "trainGen = TimeseriesGenerator(scaledTrain,scaledTrain,length=length,batch_size=batch)\n",
        "testGen = TimeseriesGenerator(scaledTest,scaledTest,length=length,batch_size=batch)"
      ],
      "execution_count": 0,
      "outputs": []
    },
    {
      "cell_type": "code",
      "metadata": {
        "id": "5OfbjwYhWk7e",
        "colab_type": "code",
        "colab": {}
      },
      "source": [
        "model = Sequential()\n",
        "\n",
        "model.add(LSTM(10,activation='relu',input_shape=(length,1)))\n",
        "#model.add(Dense(50,activation='relu'))\n",
        "model.add(Dense(1))\n",
        "\n",
        "model.compile(optimizer='adam',loss='mse')"
      ],
      "execution_count": 0,
      "outputs": []
    },
    {
      "cell_type": "code",
      "metadata": {
        "id": "FtlYAtGsXMad",
        "colab_type": "code",
        "colab": {}
      },
      "source": [
        "call = EarlyStopping(patience=4,monitor='val_loss',verbose=0)"
      ],
      "execution_count": 0,
      "outputs": []
    },
    {
      "cell_type": "code",
      "metadata": {
        "id": "amjbe9dZXf4B",
        "colab_type": "code",
        "outputId": "00e9bca9-96e3-436b-878b-46368c3c3b1d",
        "colab": {
          "base_uri": "https://localhost:8080/",
          "height": 220
        }
      },
      "source": [
        "model.fit_generator(trainGen,validation_data=testGen,epochs=100,callbacks=[call])"
      ],
      "execution_count": 28,
      "outputs": [
        {
          "output_type": "stream",
          "text": [
            "Epoch 1/100\n",
            "386/386 [==============================] - 3s 9ms/step - loss: 0.9385 - val_loss: 0.2324\n",
            "Epoch 2/100\n",
            "386/386 [==============================] - 3s 7ms/step - loss: 0.8733 - val_loss: 0.3317\n",
            "Epoch 3/100\n",
            "386/386 [==============================] - 3s 7ms/step - loss: 0.8713 - val_loss: 0.3251\n",
            "Epoch 4/100\n",
            "386/386 [==============================] - 3s 7ms/step - loss: 0.8634 - val_loss: 0.3318\n",
            "Epoch 5/100\n",
            "386/386 [==============================] - 3s 7ms/step - loss: 0.8618 - val_loss: 0.2926\n"
          ],
          "name": "stdout"
        },
        {
          "output_type": "execute_result",
          "data": {
            "text/plain": [
              "<keras.callbacks.callbacks.History at 0x7f6d85f36ba8>"
            ]
          },
          "metadata": {
            "tags": []
          },
          "execution_count": 28
        }
      ]
    },
    {
      "cell_type": "code",
      "metadata": {
        "id": "Zq_mGs9sXszf",
        "colab_type": "code",
        "colab": {}
      },
      "source": [
        "his = pd.DataFrame(model.history.history)"
      ],
      "execution_count": 0,
      "outputs": []
    },
    {
      "cell_type": "code",
      "metadata": {
        "id": "U6E6Ci-uYcu4",
        "colab_type": "code",
        "outputId": "a9b01cf3-d08e-4049-8443-5620e5362936",
        "colab": {
          "base_uri": "https://localhost:8080/",
          "height": 574
        }
      },
      "source": [
        "his.plot(figsize=size)"
      ],
      "execution_count": 30,
      "outputs": [
        {
          "output_type": "execute_result",
          "data": {
            "text/plain": [
              "<matplotlib.axes._subplots.AxesSubplot at 0x7f6d413c9ba8>"
            ]
          },
          "metadata": {
            "tags": []
          },
          "execution_count": 30
        },
        {
          "output_type": "display_data",
          "data": {
            "image/png": "[encoded data removed]",
            "text/plain": [
              "<Figure size 1368x648 with 1 Axes>"
            ]
          },
          "metadata": {
            "tags": [],
            "needs_background": "light"
          }
        }
      ]
    },
    {
      "cell_type": "code",
      "metadata": {
        "id": "SIFDGiAFYs0S",
        "colab_type": "code",
        "colab": {}
      },
      "source": [
        "pred = list()\n",
        "train = np.array(scaledTrain[-length:]).reshape((1,length,batch))\n",
        "\n",
        "for x in range(len(xTest)):\n",
        "  i = model.predict(train)[0]\n",
        "  pred.append(i)\n",
        "\n",
        "  train = np.append(train[:,1:,:],[[i]],axis=1)"
      ],
      "execution_count": 0,
      "outputs": []
    },
    {
      "cell_type": "code",
      "metadata": {
        "id": "vo91tQZBds6g",
        "colab_type": "code",
        "outputId": "d09cc455-a1af-4743-ac66-d1e6afa7b750",
        "colab": {
          "base_uri": "https://localhost:8080/",
          "height": 533
        }
      },
      "source": [
        "newpred = scaler.inverse_transform(pred)\n",
        "newpred"
      ],
      "execution_count": 32,
      "outputs": [
        {
          "output_type": "execute_result",
          "data": {
            "text/plain": [
              "array([[11585.361 ],\n",
              "       [11502.056 ],\n",
              "       [11466.797 ],\n",
              "       [11429.687 ],\n",
              "       [11407.948 ],\n",
              "       [11387.022 ],\n",
              "       [11351.54  ],\n",
              "       [11314.815 ],\n",
              "       [11297.999 ],\n",
              "       [11284.167 ],\n",
              "       [11279.582 ],\n",
              "       [11263.543 ],\n",
              "       [11250.328 ],\n",
              "       [11233.891 ],\n",
              "       [11221.499 ],\n",
              "       [11214.969 ],\n",
              "       [11209.558 ],\n",
              "       [11204.194 ],\n",
              "       [11191.89  ],\n",
              "       [11179.945 ],\n",
              "       [11161.21  ],\n",
              "       [11150.8955],\n",
              "       [11141.587 ],\n",
              "       [11132.675 ],\n",
              "       [11124.303 ],\n",
              "       [11116.538 ],\n",
              "       [11109.201 ],\n",
              "       [11102.308 ],\n",
              "       [11095.879 ],\n",
              "       [11089.741 ]], dtype=float32)"
            ]
          },
          "metadata": {
            "tags": []
          },
          "execution_count": 32
        }
      ]
    },
    {
      "cell_type": "code",
      "metadata": {
        "id": "mynDcUBdbqWR",
        "colab_type": "code",
        "outputId": "7d82b2f9-b3b6-4134-b184-228936b2bfc1",
        "colab": {
          "base_uri": "https://localhost:8080/",
          "height": 54
        }
      },
      "source": [
        "np.sqrt(mean_squared_error(xTest,newpred))"
      ],
      "execution_count": 33,
      "outputs": [
        {
          "output_type": "execute_result",
          "data": {
            "text/plain": [
              "2350.329497907131"
            ]
          },
          "metadata": {
            "tags": []
          },
          "execution_count": 33
        }
      ]
    },
    {
      "cell_type": "code",
      "metadata": {
        "id": "_MweVX8EcNmK",
        "colab_type": "code",
        "outputId": "4964bf21-a003-42de-ff0e-62e6d78c26a3",
        "colab": {
          "base_uri": "https://localhost:8080/",
          "height": 533
        }
      },
      "source": [
        "xTest"
      ],
      "execution_count": 34,
      "outputs": [
        {
          "output_type": "execute_result",
          "data": {
            "text/plain": [
              "array([[12567.95238095],\n",
              "       [11089.83672727],\n",
              "       [11871.67636364],\n",
              "       [12645.26572   ],\n",
              "       [ 8504.02975   ],\n",
              "       [16215.8282    ],\n",
              "       [11312.45151905],\n",
              "       [ 6900.05      ],\n",
              "       [11759.98431111],\n",
              "       [14403.65433962],\n",
              "       [12837.32745098],\n",
              "       [13179.720746  ],\n",
              "       [12110.31305085],\n",
              "       [10287.42013889],\n",
              "       [ 8889.57142857],\n",
              "       [10020.38125636],\n",
              "       [14533.14545455],\n",
              "       [12895.08615385],\n",
              "       [10880.51372549],\n",
              "       [13418.28571429],\n",
              "       [ 8810.19858077],\n",
              "       [ 9086.7829    ],\n",
              "       [ 8346.41154848],\n",
              "       [14220.86585366],\n",
              "       [12629.12125   ],\n",
              "       [15922.4673913 ],\n",
              "       [12941.01766667],\n",
              "       [13275.04340426],\n",
              "       [12409.71428571],\n",
              "       [13507.44836667]])"
            ]
          },
          "metadata": {
            "tags": []
          },
          "execution_count": 34
        }
      ]
    },
    {
      "cell_type": "markdown",
      "metadata": {
        "id": "_pT5581m0K_q",
        "colab_type": "text"
      },
      "source": [
        "Facebook Prophet"
      ]
    },
    {
      "cell_type": "code",
      "metadata": {
        "id": "TNmBVs-Bd-43",
        "colab_type": "code",
        "colab": {}
      },
      "source": [
        "from fbprophet import Prophet"
      ],
      "execution_count": 0,
      "outputs": []
    },
    {
      "cell_type": "code",
      "metadata": {
        "id": "ZoPckfJw0Mml",
        "colab_type": "code",
        "colab": {}
      },
      "source": [
        "prophetData.columns = ['ds','y']\n",
        "\n",
        "xTrain,xTest = prophetData.iloc[:406],prophetData.iloc[406:]"
      ],
      "execution_count": 0,
      "outputs": []
    },
    {
      "cell_type": "code",
      "metadata": {
        "id": "wD3gYlJI0PWa",
        "colab_type": "code",
        "colab": {}
      },
      "source": [
        "prop = Prophet(growth='linear',seasonality_mode='multiplicative',daily_seasonality=True,\n",
        "               changepoint_range=0.001,)"
      ],
      "execution_count": 0,
      "outputs": []
    },
    {
      "cell_type": "code",
      "metadata": {
        "id": "MMBtYjZv0dAk",
        "colab_type": "code",
        "outputId": "8b05339a-1617-4597-9774-b7ff5a3c2f37",
        "colab": {
          "base_uri": "https://localhost:8080/",
          "height": 104
        }
      },
      "source": [
        "prop.fit(xTrain)"
      ],
      "execution_count": 38,
      "outputs": [
        {
          "output_type": "stream",
          "text": [
            "INFO:fbprophet:Disabling yearly seasonality. Run prophet with yearly_seasonality=True to override this.\n",
            "INFO:fbprophet:n_changepoints greater than number of observations. Using -1.\n",
            "WARNING:fbprophet:Optimization terminated abnormally. Falling back to Newton.\n"
          ],
          "name": "stderr"
        },
        {
          "output_type": "execute_result",
          "data": {
            "text/plain": [
              "<fbprophet.forecaster.Prophet at 0x7f6d40e30b38>"
            ]
          },
          "metadata": {
            "tags": []
          },
          "execution_count": 38
        }
      ]
    },
    {
      "cell_type": "code",
      "metadata": {
        "id": "4pzJl-Uk0eu-",
        "colab_type": "code",
        "colab": {}
      },
      "source": [
        "predict = prop.make_future_dataframe(periods=30,freq='D')"
      ],
      "execution_count": 0,
      "outputs": []
    },
    {
      "cell_type": "code",
      "metadata": {
        "id": "Bo505PvY0gm8",
        "colab_type": "code",
        "colab": {}
      },
      "source": [
        "forecast = prop.predict(predict)"
      ],
      "execution_count": 0,
      "outputs": []
    },
    {
      "cell_type": "code",
      "metadata": {
        "id": "lJy3ICYo0i5p",
        "colab_type": "code",
        "outputId": "cf07d0e3-419d-40be-e270-e06fcdb4d943",
        "colab": {
          "base_uri": "https://localhost:8080/",
          "height": 433
        }
      },
      "source": [
        "forecast[['ds','yhat','yhat_lower','yhat_upper']]"
      ],
      "execution_count": 41,
      "outputs": [
        {
          "output_type": "execute_result",
          "data": {
            "text/html": [
              "<div>\n",
              "<style scoped>\n",
              "    .dataframe tbody tr th:only-of-type {\n",
              "        vertical-align: middle;\n",
              "    }\n",
              "\n",
              "    .dataframe tbody tr th {\n",
              "        vertical-align: top;\n",
              "    }\n",
              "\n",
              "    .dataframe thead th {\n",
              "        text-align: right;\n",
              "    }\n",
              "</style>\n",
              "<table border=\"1\" class=\"dataframe\">\n",
              "  <thead>\n",
              "    <tr style=\"text-align: right;\">\n",
              "      <th></th>\n",
              "      <th>ds</th>\n",
              "      <th>yhat</th>\n",
              "      <th>yhat_lower</th>\n",
              "      <th>yhat_upper</th>\n",
              "    </tr>\n",
              "  </thead>\n",
              "  <tbody>\n",
              "    <tr>\n",
              "      <th>0</th>\n",
              "      <td>2018-04-01</td>\n",
              "      <td>14820.458472</td>\n",
              "      <td>9520.469341</td>\n",
              "      <td>19863.686005</td>\n",
              "    </tr>\n",
              "    <tr>\n",
              "      <th>1</th>\n",
              "      <td>2018-04-02</td>\n",
              "      <td>15899.520679</td>\n",
              "      <td>10847.358712</td>\n",
              "      <td>21111.201371</td>\n",
              "    </tr>\n",
              "    <tr>\n",
              "      <th>2</th>\n",
              "      <td>2018-04-03</td>\n",
              "      <td>15794.678432</td>\n",
              "      <td>10807.447273</td>\n",
              "      <td>21092.068582</td>\n",
              "    </tr>\n",
              "    <tr>\n",
              "      <th>3</th>\n",
              "      <td>2018-04-04</td>\n",
              "      <td>15368.891823</td>\n",
              "      <td>10233.048573</td>\n",
              "      <td>20649.558482</td>\n",
              "    </tr>\n",
              "    <tr>\n",
              "      <th>4</th>\n",
              "      <td>2018-04-05</td>\n",
              "      <td>15214.565713</td>\n",
              "      <td>9970.932237</td>\n",
              "      <td>20292.873134</td>\n",
              "    </tr>\n",
              "    <tr>\n",
              "      <th>...</th>\n",
              "      <td>...</td>\n",
              "      <td>...</td>\n",
              "      <td>...</td>\n",
              "      <td>...</td>\n",
              "    </tr>\n",
              "    <tr>\n",
              "      <th>431</th>\n",
              "      <td>2019-06-06</td>\n",
              "      <td>11348.648370</td>\n",
              "      <td>6266.345188</td>\n",
              "      <td>16622.227393</td>\n",
              "    </tr>\n",
              "    <tr>\n",
              "      <th>432</th>\n",
              "      <td>2019-06-07</td>\n",
              "      <td>10887.698448</td>\n",
              "      <td>6000.141593</td>\n",
              "      <td>15840.093666</td>\n",
              "    </tr>\n",
              "    <tr>\n",
              "      <th>433</th>\n",
              "      <td>2019-06-08</td>\n",
              "      <td>11246.589114</td>\n",
              "      <td>5871.155323</td>\n",
              "      <td>16013.437838</td>\n",
              "    </tr>\n",
              "    <tr>\n",
              "      <th>434</th>\n",
              "      <td>2019-06-09</td>\n",
              "      <td>11002.035889</td>\n",
              "      <td>5896.602708</td>\n",
              "      <td>16099.353593</td>\n",
              "    </tr>\n",
              "    <tr>\n",
              "      <th>435</th>\n",
              "      <td>2019-06-10</td>\n",
              "      <td>11800.649401</td>\n",
              "      <td>6987.983840</td>\n",
              "      <td>17257.499791</td>\n",
              "    </tr>\n",
              "  </tbody>\n",
              "</table>\n",
              "<p>436 rows × 4 columns</p>\n",
              "</div>"
            ],
            "text/plain": [
              "            ds          yhat    yhat_lower    yhat_upper\n",
              "0   2018-04-01  14820.458472   9520.469341  19863.686005\n",
              "1   2018-04-02  15899.520679  10847.358712  21111.201371\n",
              "2   2018-04-03  15794.678432  10807.447273  21092.068582\n",
              "3   2018-04-04  15368.891823  10233.048573  20649.558482\n",
              "4   2018-04-05  15214.565713   9970.932237  20292.873134\n",
              "..         ...           ...           ...           ...\n",
              "431 2019-06-06  11348.648370   6266.345188  16622.227393\n",
              "432 2019-06-07  10887.698448   6000.141593  15840.093666\n",
              "433 2019-06-08  11246.589114   5871.155323  16013.437838\n",
              "434 2019-06-09  11002.035889   5896.602708  16099.353593\n",
              "435 2019-06-10  11800.649401   6987.983840  17257.499791\n",
              "\n",
              "[436 rows x 4 columns]"
            ]
          },
          "metadata": {
            "tags": []
          },
          "execution_count": 41
        }
      ]
    },
    {
      "cell_type": "code",
      "metadata": {
        "id": "TtqHCAR90klt",
        "colab_type": "code",
        "colab": {}
      },
      "source": [
        "pred = forecast['yhat'][406:]"
      ],
      "execution_count": 0,
      "outputs": []
    },
    {
      "cell_type": "code",
      "metadata": {
        "id": "KxMhUTRX0mxz",
        "colab_type": "code",
        "outputId": "4ee3f8d8-4dfc-4ac2-cb64-8c86659d8ed6",
        "colab": {
          "base_uri": "https://localhost:8080/",
          "height": 54
        }
      },
      "source": [
        "np.sqrt(mean_squared_error(xTest['y'],pred))"
      ],
      "execution_count": 43,
      "outputs": [
        {
          "output_type": "execute_result",
          "data": {
            "text/plain": [
              "2301.438016434454"
            ]
          },
          "metadata": {
            "tags": []
          },
          "execution_count": 43
        }
      ]
    },
    {
      "cell_type": "code",
      "metadata": {
        "id": "ve2QDFXdOMPG",
        "colab_type": "code",
        "colab": {}
      },
      "source": [
        ""
      ],
      "execution_count": 0,
      "outputs": []
    }
  ]
}